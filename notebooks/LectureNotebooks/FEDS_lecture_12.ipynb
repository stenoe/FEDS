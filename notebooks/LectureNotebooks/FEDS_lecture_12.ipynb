{
  "nbformat": 4,
  "nbformat_minor": 0,
  "metadata": {
    "colab": {
      "provenance": [],
      "authorship_tag": "ABX9TyN5Jc61V8xih3VDfiFNJQm8",
      "include_colab_link": true
    },
    "kernelspec": {
      "name": "python3",
      "display_name": "Python 3"
    },
    "language_info": {
      "name": "python"
    }
  },
  "cells": [
    {
      "cell_type": "markdown",
      "metadata": {
        "id": "view-in-github",
        "colab_type": "text"
      },
      "source": [
        "<a href=\"https://colab.research.google.com/github/stenoe/FEDS/blob/main/notebooks/LectureNotebooks/FEDS_lecture_12.ipynb\" target=\"_parent\"><img src=\"https://colab.research.google.com/assets/colab-badge.svg\" alt=\"Open In Colab\"/></a>"
      ]
    },
    {
      "cell_type": "markdown",
      "source": [
        "# Creating and using classes\n",
        "\n"
      ],
      "metadata": {
        "id": "bkzCXteqzeRd"
      }
    },
    {
      "cell_type": "markdown",
      "source": [
        "## 1 What are classes?\n",
        "\n",
        "A class is a paradigm of the object-oriented programming (OOP). \n",
        "\n",
        "For us, the easiest way to understand a class is to see it as a template to create an object that has attributes (data, informations) and behaviour (methods, functions) that allow to manipulate the attributes.\n"
      ],
      "metadata": {
        "id": "TihA2eVj21F-"
      }
    },
    {
      "cell_type": "markdown",
      "source": [
        "### 1.1 Creating a simple class \n",
        "\n",
        "We try to understand the concept of classes with a simple example. The idea is to have the attributes, here names, and the behaviour in one \"object\" integrated.\n",
        "\n",
        "- We define a Person class by the reserved word `class`.  \n",
        "- Our new class has two attributes, a first name and a last name.\n",
        "- The class can tell the name of the person.\n",
        "\n",
        "\n"
      ],
      "metadata": {
        "id": "3ErcTzg4aSUo"
      }
    },
    {
      "cell_type": "code",
      "source": [
        "# define the Person class\n",
        "\n",
        "class Person:\n",
        "  def __init__(self, fname, lname):\n",
        "    self.firstname = fname\n",
        "    self.lastname = lname\n",
        "\n",
        "  def printName(self):\n",
        "    print(self.firstname, self.lastname)"
      ],
      "metadata": {
        "id": "mr_MexezbjwW"
      },
      "execution_count": 1,
      "outputs": []
    },
    {
      "cell_type": "code",
      "source": [
        "me = Person(\"Steffen\", \"Noe\")\n",
        "me.printName()"
      ],
      "metadata": {
        "colab": {
          "base_uri": "https://localhost:8080/"
        },
        "id": "rYVxFIZNcg9A",
        "outputId": "0c3ff532-ea35-4924-b132-3e0edcf60e07"
      },
      "execution_count": 2,
      "outputs": [
        {
          "output_type": "stream",
          "name": "stdout",
          "text": [
            "Steffen Noe\n"
          ]
        }
      ]
    },
    {
      "cell_type": "markdown",
      "source": [
        "#### 1.1.1 What does `self` mean?\n",
        "\n",
        "The keyword `self` is used in classes to generate a reference to itself, therefore the name :)\n",
        "\n",
        "Whenever we create and instance of the object (described by the class definition) we can access the attributes and the methods by this keyword.\n",
        "\n",
        "It is given in class methods as **first** parameter to the function definintion. "
      ],
      "metadata": {
        "id": "cZAfI6FfjOLJ"
      }
    },
    {
      "cell_type": "markdown",
      "source": [
        "### 1.2 Inheritance\n",
        "\n",
        "A class can be used to create a new class that inherit all attributes and behaviours."
      ],
      "metadata": {
        "id": "85RIIpdZdiQa"
      }
    },
    {
      "cell_type": "code",
      "source": [
        "# Most simple inheritance \n",
        "\n",
        "class Student(Person):\n",
        "  pass\n",
        "\n",
        "newStudent = Student(\"Qwert\", \"Yuiop\")\n",
        "newStudent.printName()"
      ],
      "metadata": {
        "colab": {
          "base_uri": "https://localhost:8080/"
        },
        "id": "q9KPlQFbd_Zr",
        "outputId": "ad6fc9b1-f963-4367-c1aa-500347a9e44d"
      },
      "execution_count": 3,
      "outputs": [
        {
          "output_type": "stream",
          "name": "stdout",
          "text": [
            "Qwert Yuiop\n"
          ]
        }
      ]
    },
    {
      "cell_type": "markdown",
      "source": [
        "In the example before, the new class just adopt everything from the Person class but it does not add new attributes or behaviours. \n",
        "\n",
        "The new `Student` class is called a **child** class. The `Person` class is therefore the **parent** class of `Student`.\n",
        "\n"
      ],
      "metadata": {
        "id": "I4hQp4nHehWp"
      }
    },
    {
      "cell_type": "markdown",
      "source": [
        "### 1.3 Adding new attributes and behaviour to the child class\n",
        "\n",
        "In order to do so, we\n",
        "\n",
        "1. create a new `Student` class that adds a new attribute `graduationYear`\n",
        "2. add a new method to print this class' information"
      ],
      "metadata": {
        "id": "OB_CI8KDfaPw"
      }
    },
    {
      "cell_type": "code",
      "source": [
        "# Class with inhertance and added features\n",
        "\n",
        "class Student(Person):\n",
        "  def __init__(self, fname, lname, year):\n",
        "    super().__init__(fname, lname)\n",
        "    self.graduationYear = year\n",
        "\n",
        "  def welcome(self):\n",
        "    print(f\"Welcome {self.firstname} {self.lastname} to the class of {self.graduationYear}.\")\n",
        "\n",
        "newStudent = Student(\"Qwert\", \"Yuiop\", 2023)\n",
        "newStudent.welcome()"
      ],
      "metadata": {
        "colab": {
          "base_uri": "https://localhost:8080/"
        },
        "id": "PpCJ2f5ygp6y",
        "outputId": "ce374898-3ff3-40f0-e37d-da66612bdd89"
      },
      "execution_count": 4,
      "outputs": [
        {
          "output_type": "stream",
          "name": "stdout",
          "text": [
            "Welcome Qwert Yuiop to the class of 2023.\n"
          ]
        }
      ]
    },
    {
      "cell_type": "code",
      "source": [
        "# Let's check if the `printName()` method is also there\n",
        "\n",
        "newStudent.printName()"
      ],
      "metadata": {
        "colab": {
          "base_uri": "https://localhost:8080/"
        },
        "id": "0iQMW4QIiK-2",
        "outputId": "23f11d36-83ff-4c11-c475-aeef407c521e"
      },
      "execution_count": 5,
      "outputs": [
        {
          "output_type": "stream",
          "name": "stdout",
          "text": [
            "Qwert Yuiop\n"
          ]
        }
      ]
    },
    {
      "cell_type": "markdown",
      "source": [
        "#### 1.3.1 More info on the `self` keyword\n",
        "\n",
        "The reference to `self` is always pointing to the current object instance. That means the new class has really inherited all attributes and behaviours. The ´Person´ class was used as a template!"
      ],
      "metadata": {
        "id": "1fR8i8AGkUtb"
      }
    },
    {
      "cell_type": "markdown",
      "source": [
        "### 1.4 Chaining -- Use classes to make operations more easy to read\n",
        "\n",
        "When we use libraries like `pandas` or `matplotlib` we use the chaining notation. As example: \n",
        "\n",
        "```python\n",
        "import pandas as pd\n",
        "...\n",
        "pd.plot.hist(bins=12, alpha=0.5)\n",
        "```\n",
        "\n",
        "is using the chaining notation. \n",
        "\n",
        "Here, we define a simple class that enables chaining for the operations it offers.  \n"
      ],
      "metadata": {
        "id": "SzSGlGswpAYb"
      }
    },
    {
      "cell_type": "code",
      "source": [
        "class Adder:\n",
        "  def __init__(self, number):\n",
        "    self.number = number\n",
        "\n",
        "  def add_two(self):\n",
        "    self.number += 2\n",
        "    return self # this makes it possible to chain\n",
        "\n",
        "  def result(self):\n",
        "    return self.number \n",
        "\n",
        "# Create an instance and use the chaining notation to calculate the result\n",
        "x = Adder(15)\n",
        "x.add_two().result()"
      ],
      "metadata": {
        "colab": {
          "base_uri": "https://localhost:8080/"
        },
        "id": "m96HGGOppSBv",
        "outputId": "be992b2f-b49b-44ad-88ee-ff13b2a62c81"
      },
      "execution_count": 6,
      "outputs": [
        {
          "output_type": "execute_result",
          "data": {
            "text/plain": [
              "17"
            ]
          },
          "metadata": {},
          "execution_count": 6
        }
      ]
    },
    {
      "cell_type": "code",
      "source": [
        "# Ok, now let's try if we can make tha also without storing to a variable?\n",
        "\n",
        "Adder(12).add_two().result()"
      ],
      "metadata": {
        "colab": {
          "base_uri": "https://localhost:8080/"
        },
        "id": "o2nltBJttV5T",
        "outputId": "270e6d0a-c704-4e49-9d7b-4ceca94c8f89"
      },
      "execution_count": 7,
      "outputs": [
        {
          "output_type": "execute_result",
          "data": {
            "text/plain": [
              "14"
            ]
          },
          "metadata": {},
          "execution_count": 7
        }
      ]
    },
    {
      "cell_type": "markdown",
      "source": [
        "#### 1.4.1 Let's now change `add_two` into a property of the class\n",
        "\n",
        "Properties are decorators that help to control access to attributes. We can use it with the `@` notation. \n",
        "\n",
        "`@property` as decorator allows to use the `add_two()` method without the braces `()`. "
      ],
      "metadata": {
        "id": "K16jUyeOuxxT"
      }
    },
    {
      "cell_type": "code",
      "source": [
        "class Adder:\n",
        "  def __init__(self, number):\n",
        "    self.number = number\n",
        "\n",
        "  @property\n",
        "  def add_two(self):\n",
        "    self.number += 2\n",
        "    return self # this makes it possible to chain\n",
        "\n",
        "  def result(self):\n",
        "    return self.number \n",
        "\n",
        "# Create an instance and use the chaining notation to calculate the result\n",
        "x = Adder(15)\n",
        "x.add_two.result()"
      ],
      "metadata": {
        "colab": {
          "base_uri": "https://localhost:8080/"
        },
        "id": "Y4AKDvB_yD0v",
        "outputId": "98305f5b-3e6d-440b-8cac-d2c93eeb6af7"
      },
      "execution_count": 8,
      "outputs": [
        {
          "output_type": "execute_result",
          "data": {
            "text/plain": [
              "17"
            ]
          },
          "metadata": {},
          "execution_count": 8
        }
      ]
    },
    {
      "cell_type": "code",
      "source": [
        "# and now without variable\n",
        "Adder(12).add_two.result()"
      ],
      "metadata": {
        "colab": {
          "base_uri": "https://localhost:8080/"
        },
        "id": "2-XUdcX_yR6E",
        "outputId": "2052fbaf-b449-4e32-bc5c-4c9e1192da73"
      },
      "execution_count": 9,
      "outputs": [
        {
          "output_type": "execute_result",
          "data": {
            "text/plain": [
              "14"
            ]
          },
          "metadata": {},
          "execution_count": 9
        }
      ]
    },
    {
      "cell_type": "markdown",
      "source": [
        "#### 1.4.2 Now, let's implement a setter decorator\n",
        "\n",
        "We can use `@name.setter` to allow to set an attribute using simply the `=` sign via a function. In this example, we build a pair of similar named methods `add` to calculate `add(self)` and to set `add(self, addme)` the `addme` attribute of the class.\n",
        "\n",
        "This example shows how to use these constructs in creating **easier readable** code. \n"
      ],
      "metadata": {
        "id": "vrxA1X4FD_jl"
      }
    },
    {
      "cell_type": "code",
      "source": [
        "class Adder:\n",
        "  def __init__(self, number):\n",
        "    self.number = number\n",
        "    self.addme = 0\n",
        "\n",
        "  @property\n",
        "  def add_two(self):\n",
        "    self.number += 2\n",
        "    return self # this makes it possible to chain\n",
        " \n",
        "  @property\n",
        "  def add(self):\n",
        "    self.number += self.addme\n",
        "    return self # this makes it possible to chain\n",
        "\n",
        "  @add.setter\n",
        "  def add(self, addme):\n",
        "    self.addme = addme\n",
        "\n",
        "  def result(self):\n",
        "    return self.number \n",
        "\n",
        "# Create an instance \n",
        "x = Adder(15)\n",
        "# set the via add setter mehtod\n",
        "x.add=5\n",
        "# use the chaining notation to calculate the result\n",
        "x.add.result()"
      ],
      "metadata": {
        "colab": {
          "base_uri": "https://localhost:8080/"
        },
        "id": "KC-aKfblEsJa",
        "outputId": "035f54b1-b0b9-42a9-c136-69f55ec91bbf"
      },
      "execution_count": 10,
      "outputs": [
        {
          "output_type": "execute_result",
          "data": {
            "text/plain": [
              "20"
            ]
          },
          "metadata": {},
          "execution_count": 10
        }
      ]
    },
    {
      "cell_type": "markdown",
      "source": [
        "Btw. its possible to use the attribute directly as well! "
      ],
      "metadata": {
        "id": "YBUVUoJFKMKN"
      }
    },
    {
      "cell_type": "code",
      "source": [
        "# Create an instance \n",
        "x = Adder(15)\n",
        "# set the variable directly\n",
        "x.addme=5\n",
        "# use the chaining notation to calculate the result\n",
        "x.add.result()"
      ],
      "metadata": {
        "colab": {
          "base_uri": "https://localhost:8080/"
        },
        "id": "95ijXB3EKGIl",
        "outputId": "2e57ee3f-2bd2-462e-f9ad-8fa535792ef1"
      },
      "execution_count": 11,
      "outputs": [
        {
          "output_type": "execute_result",
          "data": {
            "text/plain": [
              "20"
            ]
          },
          "metadata": {},
          "execution_count": 11
        }
      ]
    },
    {
      "cell_type": "code",
      "source": [
        "class addd:\n",
        "  def __init__(self, num):\n",
        "    self.number = num\n",
        "    self.addme = 0\n",
        "  \n",
        "  def add(self):\n",
        "    self.number += self.addme\n",
        "    return self.number"
      ],
      "metadata": {
        "id": "D1sRCF56JP7O"
      },
      "execution_count": 12,
      "outputs": []
    },
    {
      "cell_type": "code",
      "source": [
        "z = addd(15)\n",
        "z.addme = 5\n",
        "z.add()"
      ],
      "metadata": {
        "colab": {
          "base_uri": "https://localhost:8080/"
        },
        "id": "BqjgLt06JtxO",
        "outputId": "f40fbf34-8a03-40d7-8a60-60419e97e4c6"
      },
      "execution_count": 13,
      "outputs": [
        {
          "output_type": "execute_result",
          "data": {
            "text/plain": [
              "20"
            ]
          },
          "metadata": {},
          "execution_count": 13
        }
      ]
    },
    {
      "cell_type": "markdown",
      "source": [
        "### 1.5 Creating a class to create random data\n",
        "\n",
        "This class can be used to generate random data using different lambda functions. We can either subclass (create children) or use the class and set new behaviour via the fct setter.\n",
        "\n",
        "- The `@property` (getter) and `@name.setter` (setter) decoraters need to be used together! \n",
        "- `@property` can be used alone!\n",
        "- `@name.setter` cannot be used without `@property`!\n",
        "- The attribute need to have a name distinct from the decorator's functions! We can use as example `_name` for an attribute with function `name(self):` and function `name(self, var):` "
      ],
      "metadata": {
        "id": "lYb3Kw2X3Amh"
      }
    },
    {
      "cell_type": "code",
      "source": [
        "import numpy as np\n",
        "import pandas as pd\n",
        "\n",
        "class randomData:\n",
        "  # __init__() is the class constructor, it initialises the attributes\n",
        "  # when a new instance of the class is created\n",
        "  def __init__(self):\n",
        "    self._fct = lambda x, e=0: x # default functio is identity\n",
        "    self._length = 100\n",
        "    self._seed = 42\n",
        "    self._df = None\n",
        "    self._scale = 10\n",
        "\n",
        "  # Method that creates the random data and stores it into a dataframe\n",
        "  @property\n",
        "  def create(self):\n",
        "    rng = np.random.default_rng(self._seed) \n",
        "    rng2 = np.random.default_rng(self._seed+1) \n",
        "  \n",
        "    # Create x, y and eps\n",
        "    x = rng.random(size=self._length)*50\n",
        "    eps = rng2.normal(loc=0, scale=self._scale, size=len(x))\n",
        "    y = self._fct(x, e=eps)\n",
        "\n",
        "    df = pd.DataFrame({\n",
        "      \"x\": x,\n",
        "      \"y\": y,\n",
        "      \"e\": eps\n",
        "    })\n",
        "\n",
        "    self._df = df\n",
        "    return self # this let us chain the method!\n",
        "\n",
        "  # Method to return just the data frame\n",
        "  @property\n",
        "  def df(self) -> pd.DataFrame:\n",
        "    return self._df\n",
        "\n",
        "  # Method to return or get the function stored in _fct\n",
        "  @property\n",
        "  def fct(self):\n",
        "    return self._fct\n",
        "\n",
        "  # Method to set a new function to _fct\n",
        "  @fct.setter\n",
        "  def fct(self, value):\n",
        "    self._fct = value\n",
        "\n",
        "  # Method to get the length\n",
        "  @property\n",
        "  def length(self):\n",
        "    return self._length\n",
        "\n",
        "  # Method to set the length\n",
        "  @length.setter\n",
        "  def length(self, value):\n",
        "    self._length = value\n",
        "   \n",
        "  # Method to get the seed\n",
        "  @property\n",
        "  def seed(self):\n",
        "    return self._seed\n",
        "  \n",
        "  # Method to set the seed\n",
        "  @seed.setter\n",
        "  def seed(self, value):\n",
        "    self._seed = value\n",
        "\n",
        "  # Method to get the scale\n",
        "  @property\n",
        "  def scale(self):\n",
        "    return self._scale\n",
        "\n",
        "  # Method to set the scale\n",
        "  @scale.setter\n",
        "  def scale(self, scale):\n",
        "    self._scale = scale\n",
        "\n",
        "  # Method to get information about the class status\n",
        "  def getStateDict(self) -> dict:\n",
        "    dc = {\n",
        "          \"function\": self._fct, \n",
        "          \"Length\": self._length,\n",
        "          \"Scale\": self.scale,\n",
        "          \"Seed\" : self._seed\n",
        "          }\n",
        "\n",
        "    return dc\n"
      ],
      "metadata": {
        "id": "Ms51_a2G3sd2"
      },
      "execution_count": 14,
      "outputs": []
    },
    {
      "cell_type": "code",
      "source": [
        "# Lets instantiate the object with its standard function (identity)\n",
        "newRandom = randomData()\n",
        "newRandom.getStateDict()"
      ],
      "metadata": {
        "colab": {
          "base_uri": "https://localhost:8080/"
        },
        "id": "gPSHmuFk740g",
        "outputId": "9e2f76a0-7404-43b6-be87-3c8252876866"
      },
      "execution_count": 15,
      "outputs": [
        {
          "output_type": "execute_result",
          "data": {
            "text/plain": [
              "{'function': <function __main__.randomData.__init__.<locals>.<lambda>(x, e=0)>,\n",
              " 'Length': 100,\n",
              " 'Scale': 10,\n",
              " 'Seed': 42}"
            ]
          },
          "metadata": {},
          "execution_count": 15
        }
      ]
    },
    {
      "cell_type": "code",
      "source": [
        "# Lets set a new function to the object\n",
        "newRandom.fct = lambda x, m=4, b=20, e=0: m * x + b + e\n",
        "newRandom.getStateDict()\n"
      ],
      "metadata": {
        "colab": {
          "base_uri": "https://localhost:8080/"
        },
        "id": "NivBYoea7SgG",
        "outputId": "3a62bb69-f89d-4104-962e-adec9c4c06b9"
      },
      "execution_count": 16,
      "outputs": [
        {
          "output_type": "execute_result",
          "data": {
            "text/plain": [
              "{'function': <function __main__.<lambda>(x, m=4, b=20, e=0)>,\n",
              " 'Length': 100,\n",
              " 'Scale': 10,\n",
              " 'Seed': 42}"
            ]
          },
          "metadata": {},
          "execution_count": 16
        }
      ]
    },
    {
      "cell_type": "markdown",
      "source": [
        "#### 1.5.1 Create a subclass that is providing an own linear function"
      ],
      "metadata": {
        "id": "uiXhVnM3K31X"
      }
    },
    {
      "cell_type": "code",
      "source": [
        "class linearRandomData(randomData):\n",
        "  def __init__(self):\n",
        "    super().__init__()\n",
        "    self._fct = lambda x, m=4, b=20, e=0: m * x + b + e"
      ],
      "metadata": {
        "id": "6TJ8NmRBYqFZ"
      },
      "execution_count": 17,
      "outputs": []
    },
    {
      "cell_type": "code",
      "source": [
        "# Lets instantiate and check whats in the object\n",
        "linearRandomData().getStateDict()"
      ],
      "metadata": {
        "colab": {
          "base_uri": "https://localhost:8080/"
        },
        "id": "UDKLAtnNZaoj",
        "outputId": "1bbb0efc-6a81-4223-a1a5-eb371322f5cd"
      },
      "execution_count": 18,
      "outputs": [
        {
          "output_type": "execute_result",
          "data": {
            "text/plain": [
              "{'function': <function __main__.linearRandomData.__init__.<locals>.<lambda>(x, m=4, b=20, e=0)>,\n",
              " 'Length': 100,\n",
              " 'Scale': 10,\n",
              " 'Seed': 42}"
            ]
          },
          "metadata": {},
          "execution_count": 18
        }
      ]
    },
    {
      "cell_type": "markdown",
      "source": [
        "Here, we run the class object with the chaining methodology. Please note, we don't need to first save the object into a variable. We get the dataframe immediatly back and can use it for plotting as example."
      ],
      "metadata": {
        "id": "9FWIl4faLZKJ"
      }
    },
    {
      "cell_type": "code",
      "source": [
        "# run the data generation process with chaining\n",
        "linearRandomData().create.df"
      ],
      "metadata": {
        "colab": {
          "base_uri": "https://localhost:8080/",
          "height": 423
        },
        "id": "mH5m86MOZI_6",
        "outputId": "19708b07-1430-4553-8643-90ab527f5165"
      },
      "execution_count": 19,
      "outputs": [
        {
          "output_type": "execute_result",
          "data": {
            "text/plain": [
              "            x           y          e\n",
              "0   38.697802  177.233505   2.442295\n",
              "1   21.943922  114.557471   6.781783\n",
              "2   42.929896  185.864290  -5.855294\n",
              "3   34.868401  150.386875  -9.086731\n",
              "4    4.708867   18.917087 -19.918382\n",
              "..        ...         ...        ...\n",
              "95  31.514130  140.433932  -5.622586\n",
              "96  18.090631   92.786293   0.423771\n",
              "97   4.382496   13.954818 -23.575166\n",
              "98   5.900295   38.397550  -5.203630\n",
              "99  48.094883  220.262195   7.882663\n",
              "\n",
              "[100 rows x 3 columns]"
            ],
            "text/html": [
              "\n",
              "  <div id=\"df-e73ff5c2-4b11-4240-aead-85bd34492c22\">\n",
              "    <div class=\"colab-df-container\">\n",
              "      <div>\n",
              "<style scoped>\n",
              "    .dataframe tbody tr th:only-of-type {\n",
              "        vertical-align: middle;\n",
              "    }\n",
              "\n",
              "    .dataframe tbody tr th {\n",
              "        vertical-align: top;\n",
              "    }\n",
              "\n",
              "    .dataframe thead th {\n",
              "        text-align: right;\n",
              "    }\n",
              "</style>\n",
              "<table border=\"1\" class=\"dataframe\">\n",
              "  <thead>\n",
              "    <tr style=\"text-align: right;\">\n",
              "      <th></th>\n",
              "      <th>x</th>\n",
              "      <th>y</th>\n",
              "      <th>e</th>\n",
              "    </tr>\n",
              "  </thead>\n",
              "  <tbody>\n",
              "    <tr>\n",
              "      <th>0</th>\n",
              "      <td>38.697802</td>\n",
              "      <td>177.233505</td>\n",
              "      <td>2.442295</td>\n",
              "    </tr>\n",
              "    <tr>\n",
              "      <th>1</th>\n",
              "      <td>21.943922</td>\n",
              "      <td>114.557471</td>\n",
              "      <td>6.781783</td>\n",
              "    </tr>\n",
              "    <tr>\n",
              "      <th>2</th>\n",
              "      <td>42.929896</td>\n",
              "      <td>185.864290</td>\n",
              "      <td>-5.855294</td>\n",
              "    </tr>\n",
              "    <tr>\n",
              "      <th>3</th>\n",
              "      <td>34.868401</td>\n",
              "      <td>150.386875</td>\n",
              "      <td>-9.086731</td>\n",
              "    </tr>\n",
              "    <tr>\n",
              "      <th>4</th>\n",
              "      <td>4.708867</td>\n",
              "      <td>18.917087</td>\n",
              "      <td>-19.918382</td>\n",
              "    </tr>\n",
              "    <tr>\n",
              "      <th>...</th>\n",
              "      <td>...</td>\n",
              "      <td>...</td>\n",
              "      <td>...</td>\n",
              "    </tr>\n",
              "    <tr>\n",
              "      <th>95</th>\n",
              "      <td>31.514130</td>\n",
              "      <td>140.433932</td>\n",
              "      <td>-5.622586</td>\n",
              "    </tr>\n",
              "    <tr>\n",
              "      <th>96</th>\n",
              "      <td>18.090631</td>\n",
              "      <td>92.786293</td>\n",
              "      <td>0.423771</td>\n",
              "    </tr>\n",
              "    <tr>\n",
              "      <th>97</th>\n",
              "      <td>4.382496</td>\n",
              "      <td>13.954818</td>\n",
              "      <td>-23.575166</td>\n",
              "    </tr>\n",
              "    <tr>\n",
              "      <th>98</th>\n",
              "      <td>5.900295</td>\n",
              "      <td>38.397550</td>\n",
              "      <td>-5.203630</td>\n",
              "    </tr>\n",
              "    <tr>\n",
              "      <th>99</th>\n",
              "      <td>48.094883</td>\n",
              "      <td>220.262195</td>\n",
              "      <td>7.882663</td>\n",
              "    </tr>\n",
              "  </tbody>\n",
              "</table>\n",
              "<p>100 rows × 3 columns</p>\n",
              "</div>\n",
              "      <button class=\"colab-df-convert\" onclick=\"convertToInteractive('df-e73ff5c2-4b11-4240-aead-85bd34492c22')\"\n",
              "              title=\"Convert this dataframe to an interactive table.\"\n",
              "              style=\"display:none;\">\n",
              "        \n",
              "  <svg xmlns=\"http://www.w3.org/2000/svg\" height=\"24px\"viewBox=\"0 0 24 24\"\n",
              "       width=\"24px\">\n",
              "    <path d=\"M0 0h24v24H0V0z\" fill=\"none\"/>\n",
              "    <path d=\"M18.56 5.44l.94 2.06.94-2.06 2.06-.94-2.06-.94-.94-2.06-.94 2.06-2.06.94zm-11 1L8.5 8.5l.94-2.06 2.06-.94-2.06-.94L8.5 2.5l-.94 2.06-2.06.94zm10 10l.94 2.06.94-2.06 2.06-.94-2.06-.94-.94-2.06-.94 2.06-2.06.94z\"/><path d=\"M17.41 7.96l-1.37-1.37c-.4-.4-.92-.59-1.43-.59-.52 0-1.04.2-1.43.59L10.3 9.45l-7.72 7.72c-.78.78-.78 2.05 0 2.83L4 21.41c.39.39.9.59 1.41.59.51 0 1.02-.2 1.41-.59l7.78-7.78 2.81-2.81c.8-.78.8-2.07 0-2.86zM5.41 20L4 18.59l7.72-7.72 1.47 1.35L5.41 20z\"/>\n",
              "  </svg>\n",
              "      </button>\n",
              "      \n",
              "  <style>\n",
              "    .colab-df-container {\n",
              "      display:flex;\n",
              "      flex-wrap:wrap;\n",
              "      gap: 12px;\n",
              "    }\n",
              "\n",
              "    .colab-df-convert {\n",
              "      background-color: #E8F0FE;\n",
              "      border: none;\n",
              "      border-radius: 50%;\n",
              "      cursor: pointer;\n",
              "      display: none;\n",
              "      fill: #1967D2;\n",
              "      height: 32px;\n",
              "      padding: 0 0 0 0;\n",
              "      width: 32px;\n",
              "    }\n",
              "\n",
              "    .colab-df-convert:hover {\n",
              "      background-color: #E2EBFA;\n",
              "      box-shadow: 0px 1px 2px rgba(60, 64, 67, 0.3), 0px 1px 3px 1px rgba(60, 64, 67, 0.15);\n",
              "      fill: #174EA6;\n",
              "    }\n",
              "\n",
              "    [theme=dark] .colab-df-convert {\n",
              "      background-color: #3B4455;\n",
              "      fill: #D2E3FC;\n",
              "    }\n",
              "\n",
              "    [theme=dark] .colab-df-convert:hover {\n",
              "      background-color: #434B5C;\n",
              "      box-shadow: 0px 1px 3px 1px rgba(0, 0, 0, 0.15);\n",
              "      filter: drop-shadow(0px 1px 2px rgba(0, 0, 0, 0.3));\n",
              "      fill: #FFFFFF;\n",
              "    }\n",
              "  </style>\n",
              "\n",
              "      <script>\n",
              "        const buttonEl =\n",
              "          document.querySelector('#df-e73ff5c2-4b11-4240-aead-85bd34492c22 button.colab-df-convert');\n",
              "        buttonEl.style.display =\n",
              "          google.colab.kernel.accessAllowed ? 'block' : 'none';\n",
              "\n",
              "        async function convertToInteractive(key) {\n",
              "          const element = document.querySelector('#df-e73ff5c2-4b11-4240-aead-85bd34492c22');\n",
              "          const dataTable =\n",
              "            await google.colab.kernel.invokeFunction('convertToInteractive',\n",
              "                                                     [key], {});\n",
              "          if (!dataTable) return;\n",
              "\n",
              "          const docLinkHtml = 'Like what you see? Visit the ' +\n",
              "            '<a target=\"_blank\" href=https://colab.research.google.com/notebooks/data_table.ipynb>data table notebook</a>'\n",
              "            + ' to learn more about interactive tables.';\n",
              "          element.innerHTML = '';\n",
              "          dataTable['output_type'] = 'display_data';\n",
              "          await google.colab.output.renderOutput(dataTable, element);\n",
              "          const docLink = document.createElement('div');\n",
              "          docLink.innerHTML = docLinkHtml;\n",
              "          element.appendChild(docLink);\n",
              "        }\n",
              "      </script>\n",
              "    </div>\n",
              "  </div>\n",
              "  "
            ]
          },
          "metadata": {},
          "execution_count": 19
        }
      ]
    },
    {
      "cell_type": "markdown",
      "source": [
        "Let's try that out!"
      ],
      "metadata": {
        "id": "fVr0BzT2L5On"
      }
    },
    {
      "cell_type": "code",
      "source": [
        "import seaborn as sns\n",
        "\n",
        "df = linearRandomData().create.df\n",
        "\n",
        "sns.regplot(x=\"x\", y=\"y\", data=df);"
      ],
      "metadata": {
        "colab": {
          "base_uri": "https://localhost:8080/",
          "height": 449
        },
        "id": "CJpuMvuRL8Tx",
        "outputId": "b9455c4a-942d-4ca4-acba-411f9a8e9d19"
      },
      "execution_count": 20,
      "outputs": [
        {
          "output_type": "display_data",
          "data": {
            "text/plain": [
              "<Figure size 640x480 with 1 Axes>"
            ],
            "image/png": "[encoded data removed]"
          },
          "metadata": {}
        }
      ]
    },
    {
      "cell_type": "markdown",
      "source": [
        "Let's see if we can do the same without storing the data into an explicit variable. "
      ],
      "metadata": {
        "id": "IJoJx8d2E5JG"
      }
    },
    {
      "cell_type": "code",
      "source": [
        "sns.regplot(x=\"x\", y=\"y\", data=linearRandomData().create.df);"
      ],
      "metadata": {
        "colab": {
          "base_uri": "https://localhost:8080/",
          "height": 449
        },
        "id": "DcZm0TizFCLH",
        "outputId": "5a289bde-8948-459d-cd88-c14ff2ad5b38"
      },
      "execution_count": 21,
      "outputs": [
        {
          "output_type": "display_data",
          "data": {
            "text/plain": [
              "<Figure size 640x480 with 1 Axes>"
            ],
            "image/png": "[encoded data removed]"
          },
          "metadata": {}
        }
      ]
    },
    {
      "cell_type": "markdown",
      "source": [
        "#### 1.5.2 Lets try the sigmoind function as well by subclassing"
      ],
      "metadata": {
        "id": "gHOZg4YYMRFa"
      }
    },
    {
      "cell_type": "code",
      "source": [
        "class sigmoidRandomData(randomData):\n",
        "  def __init__(self):\n",
        "    super().__init__()\n",
        "    self._fct = lambda x, x0=25, L=300, k=0.5, e=0: L / (1. + np.exp(-k * (x - x0))) + e\n",
        "    self._scale = 10\n"
      ],
      "metadata": {
        "id": "ihmF2lyPCYBZ"
      },
      "execution_count": 22,
      "outputs": []
    },
    {
      "cell_type": "code",
      "source": [
        "newSigmoid = sigmoidRandomData()\n",
        "newSigmoid.getStateDict()"
      ],
      "metadata": {
        "colab": {
          "base_uri": "https://localhost:8080/"
        },
        "id": "EMH544QIEJfq",
        "outputId": "0f760d23-bd64-488e-edd4-e579cb5ee832"
      },
      "execution_count": 23,
      "outputs": [
        {
          "output_type": "execute_result",
          "data": {
            "text/plain": [
              "{'function': <function __main__.sigmoidRandomData.__init__.<locals>.<lambda>(x, x0=25, L=300, k=0.5, e=0)>,\n",
              " 'Length': 100,\n",
              " 'Scale': 10,\n",
              " 'Seed': 42}"
            ]
          },
          "metadata": {},
          "execution_count": 23
        }
      ]
    },
    {
      "cell_type": "code",
      "source": [
        "newSigmoid.create.df"
      ],
      "metadata": {
        "colab": {
          "base_uri": "https://localhost:8080/",
          "height": 423
        },
        "id": "_e9RXLkMERTX",
        "outputId": "75bf3889-7a00-4767-d9b5-9f3a09c2fbbb"
      },
      "execution_count": 24,
      "outputs": [
        {
          "output_type": "execute_result",
          "data": {
            "text/plain": [
              "            x           y          e\n",
              "0   38.697802  302.124446   2.442295\n",
              "1   21.943922   60.266018   6.781783\n",
              "2   42.929896  294.106367  -5.855294\n",
              "3   34.868401  288.769830  -9.086731\n",
              "4    4.708867  -19.906608 -19.918382\n",
              "..        ...         ...        ...\n",
              "95  31.514130  283.255258  -5.622586\n",
              "96  18.090631    9.612608   0.423771\n",
              "97   4.382496  -23.565164 -23.575166\n",
              "98   5.900295   -5.182268  -5.203630\n",
              "99  48.094883  307.879764   7.882663\n",
              "\n",
              "[100 rows x 3 columns]"
            ],
            "text/html": [
              "\n",
              "  <div id=\"df-95f0d457-e52f-42c7-91fd-bb4687381904\">\n",
              "    <div class=\"colab-df-container\">\n",
              "      <div>\n",
              "<style scoped>\n",
              "    .dataframe tbody tr th:only-of-type {\n",
              "        vertical-align: middle;\n",
              "    }\n",
              "\n",
              "    .dataframe tbody tr th {\n",
              "        vertical-align: top;\n",
              "    }\n",
              "\n",
              "    .dataframe thead th {\n",
              "        text-align: right;\n",
              "    }\n",
              "</style>\n",
              "<table border=\"1\" class=\"dataframe\">\n",
              "  <thead>\n",
              "    <tr style=\"text-align: right;\">\n",
              "      <th></th>\n",
              "      <th>x</th>\n",
              "      <th>y</th>\n",
              "      <th>e</th>\n",
              "    </tr>\n",
              "  </thead>\n",
              "  <tbody>\n",
              "    <tr>\n",
              "      <th>0</th>\n",
              "      <td>38.697802</td>\n",
              "      <td>302.124446</td>\n",
              "      <td>2.442295</td>\n",
              "    </tr>\n",
              "    <tr>\n",
              "      <th>1</th>\n",
              "      <td>21.943922</td>\n",
              "      <td>60.266018</td>\n",
              "      <td>6.781783</td>\n",
              "    </tr>\n",
              "    <tr>\n",
              "      <th>2</th>\n",
              "      <td>42.929896</td>\n",
              "      <td>294.106367</td>\n",
              "      <td>-5.855294</td>\n",
              "    </tr>\n",
              "    <tr>\n",
              "      <th>3</th>\n",
              "      <td>34.868401</td>\n",
              "      <td>288.769830</td>\n",
              "      <td>-9.086731</td>\n",
              "    </tr>\n",
              "    <tr>\n",
              "      <th>4</th>\n",
              "      <td>4.708867</td>\n",
              "      <td>-19.906608</td>\n",
              "      <td>-19.918382</td>\n",
              "    </tr>\n",
              "    <tr>\n",
              "      <th>...</th>\n",
              "      <td>...</td>\n",
              "      <td>...</td>\n",
              "      <td>...</td>\n",
              "    </tr>\n",
              "    <tr>\n",
              "      <th>95</th>\n",
              "      <td>31.514130</td>\n",
              "      <td>283.255258</td>\n",
              "      <td>-5.622586</td>\n",
              "    </tr>\n",
              "    <tr>\n",
              "      <th>96</th>\n",
              "      <td>18.090631</td>\n",
              "      <td>9.612608</td>\n",
              "      <td>0.423771</td>\n",
              "    </tr>\n",
              "    <tr>\n",
              "      <th>97</th>\n",
              "      <td>4.382496</td>\n",
              "      <td>-23.565164</td>\n",
              "      <td>-23.575166</td>\n",
              "    </tr>\n",
              "    <tr>\n",
              "      <th>98</th>\n",
              "      <td>5.900295</td>\n",
              "      <td>-5.182268</td>\n",
              "      <td>-5.203630</td>\n",
              "    </tr>\n",
              "    <tr>\n",
              "      <th>99</th>\n",
              "      <td>48.094883</td>\n",
              "      <td>307.879764</td>\n",
              "      <td>7.882663</td>\n",
              "    </tr>\n",
              "  </tbody>\n",
              "</table>\n",
              "<p>100 rows × 3 columns</p>\n",
              "</div>\n",
              "      <button class=\"colab-df-convert\" onclick=\"convertToInteractive('df-95f0d457-e52f-42c7-91fd-bb4687381904')\"\n",
              "              title=\"Convert this dataframe to an interactive table.\"\n",
              "              style=\"display:none;\">\n",
              "        \n",
              "  <svg xmlns=\"http://www.w3.org/2000/svg\" height=\"24px\"viewBox=\"0 0 24 24\"\n",
              "       width=\"24px\">\n",
              "    <path d=\"M0 0h24v24H0V0z\" fill=\"none\"/>\n",
              "    <path d=\"M18.56 5.44l.94 2.06.94-2.06 2.06-.94-2.06-.94-.94-2.06-.94 2.06-2.06.94zm-11 1L8.5 8.5l.94-2.06 2.06-.94-2.06-.94L8.5 2.5l-.94 2.06-2.06.94zm10 10l.94 2.06.94-2.06 2.06-.94-2.06-.94-.94-2.06-.94 2.06-2.06.94z\"/><path d=\"M17.41 7.96l-1.37-1.37c-.4-.4-.92-.59-1.43-.59-.52 0-1.04.2-1.43.59L10.3 9.45l-7.72 7.72c-.78.78-.78 2.05 0 2.83L4 21.41c.39.39.9.59 1.41.59.51 0 1.02-.2 1.41-.59l7.78-7.78 2.81-2.81c.8-.78.8-2.07 0-2.86zM5.41 20L4 18.59l7.72-7.72 1.47 1.35L5.41 20z\"/>\n",
              "  </svg>\n",
              "      </button>\n",
              "      \n",
              "  <style>\n",
              "    .colab-df-container {\n",
              "      display:flex;\n",
              "      flex-wrap:wrap;\n",
              "      gap: 12px;\n",
              "    }\n",
              "\n",
              "    .colab-df-convert {\n",
              "      background-color: #E8F0FE;\n",
              "      border: none;\n",
              "      border-radius: 50%;\n",
              "      cursor: pointer;\n",
              "      display: none;\n",
              "      fill: #1967D2;\n",
              "      height: 32px;\n",
              "      padding: 0 0 0 0;\n",
              "      width: 32px;\n",
              "    }\n",
              "\n",
              "    .colab-df-convert:hover {\n",
              "      background-color: #E2EBFA;\n",
              "      box-shadow: 0px 1px 2px rgba(60, 64, 67, 0.3), 0px 1px 3px 1px rgba(60, 64, 67, 0.15);\n",
              "      fill: #174EA6;\n",
              "    }\n",
              "\n",
              "    [theme=dark] .colab-df-convert {\n",
              "      background-color: #3B4455;\n",
              "      fill: #D2E3FC;\n",
              "    }\n",
              "\n",
              "    [theme=dark] .colab-df-convert:hover {\n",
              "      background-color: #434B5C;\n",
              "      box-shadow: 0px 1px 3px 1px rgba(0, 0, 0, 0.15);\n",
              "      filter: drop-shadow(0px 1px 2px rgba(0, 0, 0, 0.3));\n",
              "      fill: #FFFFFF;\n",
              "    }\n",
              "  </style>\n",
              "\n",
              "      <script>\n",
              "        const buttonEl =\n",
              "          document.querySelector('#df-95f0d457-e52f-42c7-91fd-bb4687381904 button.colab-df-convert');\n",
              "        buttonEl.style.display =\n",
              "          google.colab.kernel.accessAllowed ? 'block' : 'none';\n",
              "\n",
              "        async function convertToInteractive(key) {\n",
              "          const element = document.querySelector('#df-95f0d457-e52f-42c7-91fd-bb4687381904');\n",
              "          const dataTable =\n",
              "            await google.colab.kernel.invokeFunction('convertToInteractive',\n",
              "                                                     [key], {});\n",
              "          if (!dataTable) return;\n",
              "\n",
              "          const docLinkHtml = 'Like what you see? Visit the ' +\n",
              "            '<a target=\"_blank\" href=https://colab.research.google.com/notebooks/data_table.ipynb>data table notebook</a>'\n",
              "            + ' to learn more about interactive tables.';\n",
              "          element.innerHTML = '';\n",
              "          dataTable['output_type'] = 'display_data';\n",
              "          await google.colab.output.renderOutput(dataTable, element);\n",
              "          const docLink = document.createElement('div');\n",
              "          docLink.innerHTML = docLinkHtml;\n",
              "          element.appendChild(docLink);\n",
              "        }\n",
              "      </script>\n",
              "    </div>\n",
              "  </div>\n",
              "  "
            ]
          },
          "metadata": {},
          "execution_count": 24
        }
      ]
    },
    {
      "cell_type": "code",
      "source": [
        "df2 = sigmoidRandomData().create.df\n",
        "\n",
        "# sns.regplot(x=\"x\", y=df2.y/300, data=df2, logistic=True);\n",
        "sns.regplot(x=\"x\", y=df2.y, data=df2, lowess=True);"
      ],
      "metadata": {
        "colab": {
          "base_uri": "https://localhost:8080/",
          "height": 449
        },
        "id": "47j_pi_c0_tp",
        "outputId": "6a167348-8016-4865-cf5e-288dc7bec040"
      },
      "execution_count": 25,
      "outputs": [
        {
          "output_type": "display_data",
          "data": {
            "text/plain": [
              "<Figure size 640x480 with 1 Axes>"
            ],
            "image/png": "[encoded data removed]"
          },
          "metadata": {}
        }
      ]
    }
  ]
}