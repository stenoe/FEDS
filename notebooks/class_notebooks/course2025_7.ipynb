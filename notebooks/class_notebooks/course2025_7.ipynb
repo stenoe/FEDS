{
  "nbformat": 4,
  "nbformat_minor": 0,
  "metadata": {
    "colab": {
      "provenance": [],
      "authorship_tag": "ABX9TyPj9GAe5AFTQhJQPpRMuOWR",
      "include_colab_link": true
    },
    "kernelspec": {
      "name": "python3",
      "display_name": "Python 3"
    },
    "language_info": {
      "name": "python"
    }
  },
  "cells": [
    {
      "cell_type": "markdown",
      "metadata": {
        "id": "view-in-github",
        "colab_type": "text"
      },
      "source": [
        "<a href=\"https://colab.research.google.com/github/stenoe/FEDS/blob/main/notebooks/class_notebooks/course2025_7.ipynb\" target=\"_parent\"><img src=\"https://colab.research.google.com/assets/colab-badge.svg\" alt=\"Open In Colab\"/></a>"
      ]
    },
    {
      "cell_type": "code",
      "execution_count": null,
      "metadata": {
        "id": "WSsDpbYHSH9C"
      },
      "outputs": [],
      "source": []
    },
    {
      "cell_type": "markdown",
      "source": [
        "# Creating and using classes\n"
      ],
      "metadata": {
        "id": "4PmSsmLhSMiG"
      }
    },
    {
      "cell_type": "markdown",
      "source": [
        "## What are classes?\n",
        "\n",
        "A class is paradigm of object-oriented programming.\n",
        "\n",
        "In short - it is combining the data and the functions into one structure to be re-usable!\n"
      ],
      "metadata": {
        "id": "5t0h-SflSUxn"
      }
    },
    {
      "cell_type": "markdown",
      "source": [
        "## A simple class\n",
        "\n",
        "Let's create a Person class, it should have the person's firstname and lastname. And some function => called now a method to print the name."
      ],
      "metadata": {
        "id": "RFJr-zfBUca3"
      }
    },
    {
      "cell_type": "code",
      "source": [
        "# Define a Person class\n",
        "\n",
        "class Person:\n",
        "    def __init__(self, firstname, lastname):\n",
        "        self.firstname = firstname\n",
        "        self.lastname = lastname\n",
        "\n",
        "    def printName(self):\n",
        "        print(self.firstname, self.lastname)"
      ],
      "metadata": {
        "id": "L8YXVARjSUIf"
      },
      "execution_count": null,
      "outputs": []
    },
    {
      "cell_type": "code",
      "source": [
        "me = Person(\"Steffen\", \"Noe\")\n",
        "me.printName()"
      ],
      "metadata": {
        "colab": {
          "base_uri": "https://localhost:8080/"
        },
        "id": "W5rvhtneVJyK",
        "outputId": "71c5b835-2db0-40fa-c47d-ef61ff4a7577"
      },
      "execution_count": null,
      "outputs": [
        {
          "output_type": "stream",
          "name": "stdout",
          "text": [
            "Steffen Noe\n"
          ]
        }
      ]
    },
    {
      "cell_type": "code",
      "source": [
        "# Create an inherited class Student\n",
        "\n",
        "class Student(Person):\n",
        "    def __init__(self, firstname, lastname, year):\n",
        "        super().__init__(firstname, lastname)\n",
        "        self.graduationYear = year\n",
        "\n",
        "    def welcome(self):\n",
        "        print(\"Welcome\", self.firstname, self.lastname, \"to the class of\", self.graduationYear)\n"
      ],
      "metadata": {
        "id": "SrtbIw5fVmFI"
      },
      "execution_count": null,
      "outputs": []
    },
    {
      "cell_type": "code",
      "source": [
        "student = Student(\"Steffen\", \"Noe\", 2023)\n",
        "student.welcome()\n",
        "student.printName()"
      ],
      "metadata": {
        "colab": {
          "base_uri": "https://localhost:8080/"
        },
        "id": "VGXzGlhYXIHZ",
        "outputId": "3b43b5e5-b838-4568-e605-08e5fc87b122"
      },
      "execution_count": null,
      "outputs": [
        {
          "output_type": "stream",
          "name": "stdout",
          "text": [
            "Welcome Steffen Noe to the class of 2023\n",
            "Steffen Noe\n"
          ]
        }
      ]
    },
    {
      "cell_type": "markdown",
      "source": [
        "## Classes help to make \"easier\" readable code\n",
        "\n",
        "Chaining commands with \".\"\n",
        "\n",
        "```python\n",
        "import pandas as pd\n",
        "...\n",
        "pd.plot.hist(bins=12, aplha=0.5)\n",
        "```\n"
      ],
      "metadata": {
        "id": "yOj4C7TQZVO3"
      }
    },
    {
      "cell_type": "code",
      "source": [
        "# Class to add numbers\n",
        "\n",
        "class Adder:\n",
        "  def __init__(self, number):\n",
        "      self.number = number\n",
        "\n",
        "  def add(self, number2):\n",
        "    self.number += number2\n",
        "    return self  # this makes it possible to chain!\n",
        "\n",
        "  def add_two(self):\n",
        "    self.number += 2\n",
        "    return self  # this makes it possible to chain!\n",
        "\n",
        "  def result(self):\n",
        "    return self.number"
      ],
      "metadata": {
        "id": "5ImRB_MJXL53"
      },
      "execution_count": null,
      "outputs": []
    },
    {
      "cell_type": "code",
      "source": [
        "x = Adder(13)\n",
        "x.add(5).result()"
      ],
      "metadata": {
        "colab": {
          "base_uri": "https://localhost:8080/"
        },
        "id": "2JXJae4Zaoh4",
        "outputId": "3b5b3bb0-ba20-4d6d-86e4-1ffa2ff9b5f8"
      },
      "execution_count": null,
      "outputs": [
        {
          "output_type": "execute_result",
          "data": {
            "text/plain": [
              "18"
            ]
          },
          "metadata": {},
          "execution_count": 14
        }
      ]
    },
    {
      "cell_type": "code",
      "source": [
        "Adder(15).add(7).result() , Adder(13).add_two().result()\n"
      ],
      "metadata": {
        "colab": {
          "base_uri": "https://localhost:8080/"
        },
        "id": "R9K5M-DIazqX",
        "outputId": "d1b0eabe-28f7-48c1-c8ce-4b54ebe48864"
      },
      "execution_count": null,
      "outputs": [
        {
          "output_type": "execute_result",
          "data": {
            "text/plain": [
              "(22, 15)"
            ]
          },
          "metadata": {},
          "execution_count": 19
        }
      ]
    },
    {
      "cell_type": "code",
      "source": [
        "# Class to add numbers\n",
        "\n",
        "class Adder2:\n",
        "  def __init__(self, number):\n",
        "      self.number = number\n",
        "\n",
        "  @property\n",
        "  def add_two(self):\n",
        "    self.number += 2\n",
        "    return self  # this makes it possible to chain!\n",
        "\n",
        "  def result(self):\n",
        "    return self.number"
      ],
      "metadata": {
        "id": "DFQ1kptXb1fn"
      },
      "execution_count": null,
      "outputs": []
    },
    {
      "cell_type": "code",
      "source": [
        "Adder2(12).add_two.result()"
      ],
      "metadata": {
        "colab": {
          "base_uri": "https://localhost:8080/"
        },
        "id": "f0p6zLCVdVw6",
        "outputId": "280d42ce-4f9b-4642-d008-e6e7052d625a"
      },
      "execution_count": null,
      "outputs": [
        {
          "output_type": "execute_result",
          "data": {
            "text/plain": [
              "14"
            ]
          },
          "metadata": {},
          "execution_count": 21
        }
      ]
    },
    {
      "cell_type": "code",
      "source": [
        "# Class to add numbers\n",
        "\n",
        "class Adder2:\n",
        "  def __init__(self, number):\n",
        "      self.number = number\n",
        "      self.addme = 0\n",
        "\n",
        "  @property\n",
        "  def add_two(self):\n",
        "    self.number += 2\n",
        "    return self  # this makes it possible to chain!\n",
        "\n",
        "  @property\n",
        "  def add(self):\n",
        "    self.number += self.addme\n",
        "    return self  # this makes it possible to chain!\n",
        "\n",
        "  @add.setter\n",
        "  def add(self, value):\n",
        "    self.addme = value\n",
        "\n",
        "  def result(self):\n",
        "    return self.number"
      ],
      "metadata": {
        "id": "LLKDVe_gda3o"
      },
      "execution_count": null,
      "outputs": []
    },
    {
      "cell_type": "code",
      "source": [
        "# Create the instance\n",
        "x = Adder2(15)\n",
        "# set via setter another number to be added\n",
        "x.add = 5\n",
        "# look for the result\n",
        "x.add.result()"
      ],
      "metadata": {
        "colab": {
          "base_uri": "https://localhost:8080/"
        },
        "id": "KAiqcHiffbJY",
        "outputId": "82b9dd8a-6827-4e72-8c96-4afa0ef365a9"
      },
      "execution_count": null,
      "outputs": [
        {
          "output_type": "execute_result",
          "data": {
            "text/plain": [
              "20"
            ]
          },
          "metadata": {},
          "execution_count": 29
        }
      ]
    },
    {
      "cell_type": "code",
      "source": [
        "# Create the instance\n",
        "x = Adder2(15)\n",
        "# set via setter another number to be added\n",
        "x.addme = 5\n",
        "# look for the result\n",
        "x.add.result()"
      ],
      "metadata": {
        "colab": {
          "base_uri": "https://localhost:8080/"
        },
        "id": "Rl0IQOcphFxI",
        "outputId": "c74088bb-78e7-4e56-81bb-f161e095e4be"
      },
      "execution_count": null,
      "outputs": [
        {
          "output_type": "execute_result",
          "data": {
            "text/plain": [
              "20"
            ]
          },
          "metadata": {},
          "execution_count": 30
        }
      ]
    },
    {
      "cell_type": "code",
      "source": [],
      "metadata": {
        "id": "0FWGk4b8hnCG"
      },
      "execution_count": null,
      "outputs": []
    },
    {
      "cell_type": "markdown",
      "source": [
        "## Build a class to create random data"
      ],
      "metadata": {
        "id": "G291-FnXkdLZ"
      }
    },
    {
      "cell_type": "code",
      "source": [
        "import numpy as np\n",
        "import pandas as pd\n",
        "\n",
        "class randomData:\n",
        "  def __init__(self):\n",
        "    self._fct = lambda x, e=0: x # default function equals to identity\n",
        "    self._length = 100\n",
        "    self._seed = 42\n",
        "    self._df = None\n",
        "    self._scale = 10\n",
        "\n",
        "  @property\n",
        "  def create(self):\n",
        "    rng = np.random.default_rng(self._seed)\n",
        "    rng2 = np.random.default_rng(self._seed+1)\n",
        "\n",
        "    x = rng.random(size=self._length)\n",
        "    eps = rng2.normal(loc=0, scale=self._scale, size=len(x))\n",
        "    y = self._fct(x, e=eps)\n",
        "\n",
        "    self._df = pd.DataFrame({\"x\": x, \"y\": y, \"e\": eps})\n",
        "    return self\n",
        "\n",
        "  # Method to return the dataframe\n",
        "  @property\n",
        "  def data(self):\n",
        "    return self._df\n",
        "\n",
        "  # Method to return the function\n",
        "  @property\n",
        "  def fct(self):\n",
        "    return self._fct\n",
        "\n",
        "  # Method to set the function\n",
        "  @fct.setter\n",
        "  def fct(self, value):\n",
        "    self._fct = value\n",
        "\n",
        "  # Method to return the lenght\n",
        "  @property\n",
        "  def length(self):\n",
        "    return self._length\n",
        "\n",
        "  # Method to set the lenght\n",
        "  @length.setter\n",
        "  def length(self, value):\n",
        "    self._length = value\n",
        "\n",
        "  # Method to return the seed\n",
        "  @property\n",
        "  def seed(self):\n",
        "    return self._seed\n",
        "\n",
        "  # Method to set the seed\n",
        "  @seed.setter\n",
        "  def seed(self, value):\n",
        "    self._seed = value\n",
        "\n",
        "  # Method to return the scale\n",
        "  @property\n",
        "  def scale(self):\n",
        "    return self._scale\n",
        "\n",
        "  # Method to set the scale\n",
        "  @scale.setter\n",
        "  def scale(self, value):\n",
        "    self._scale = value\n",
        "\n",
        "  # Method to get infoprmation about the class status\n",
        "  def getStateDict(self) -> dict:\n",
        "    dc = {\n",
        "        \"fct\": self._fct,\n",
        "        \"length\": self._length,\n",
        "        \"seed\": self._seed,\n",
        "        \"scale\": self._scale,\n",
        "    }\n",
        "\n",
        "    return dc"
      ],
      "metadata": {
        "id": "jeMkRIBykmLm"
      },
      "execution_count": null,
      "outputs": []
    },
    {
      "cell_type": "code",
      "source": [
        "newRandom = randomData()\n",
        "newRandom.getStateDict()"
      ],
      "metadata": {
        "colab": {
          "base_uri": "https://localhost:8080/"
        },
        "id": "uFhxEr2gl-z4",
        "outputId": "148c821d-566b-41fd-d3d2-9eff590a8975"
      },
      "execution_count": null,
      "outputs": [
        {
          "output_type": "execute_result",
          "data": {
            "text/plain": [
              "{'fct': <function __main__.randomData.__init__.<locals>.<lambda>(x, e=0)>,\n",
              " 'length': 100,\n",
              " 'seed': 42,\n",
              " 'scale': 10}"
            ]
          },
          "metadata": {},
          "execution_count": 35
        }
      ]
    },
    {
      "cell_type": "code",
      "source": [
        "newRandom.fct = lambda x, m=4, b=20, e=0: m*x + b + e\n",
        "newRandom.getStateDict()"
      ],
      "metadata": {
        "colab": {
          "base_uri": "https://localhost:8080/"
        },
        "id": "yLKc-vBmnsE3",
        "outputId": "297381bb-076b-431a-b7c7-770f7a864ee0"
      },
      "execution_count": null,
      "outputs": [
        {
          "output_type": "execute_result",
          "data": {
            "text/plain": [
              "{'fct': <function __main__.<lambda>(x, m=4, b=20, e=0)>,\n",
              " 'length': 100,\n",
              " 'seed': 42,\n",
              " 'scale': 10}"
            ]
          },
          "metadata": {},
          "execution_count": 37
        }
      ]
    },
    {
      "cell_type": "code",
      "source": [],
      "metadata": {
        "id": "pd9KbIBmoAlH"
      },
      "execution_count": null,
      "outputs": []
    }
  ]
}