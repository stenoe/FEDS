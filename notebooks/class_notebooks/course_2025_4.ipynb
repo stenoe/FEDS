{
  "nbformat": 4,
  "nbformat_minor": 0,
  "metadata": {
    "colab": {
      "provenance": [],
      "authorship_tag": "ABX9TyOopm8rC2WSaOKI4OhhPglI",
      "include_colab_link": true
    },
    "kernelspec": {
      "name": "python3",
      "display_name": "Python 3"
    },
    "language_info": {
      "name": "python"
    }
  },
  "cells": [
    {
      "cell_type": "markdown",
      "metadata": {
        "id": "view-in-github",
        "colab_type": "text"
      },
      "source": [
        "<a href=\"https://colab.research.google.com/github/stenoe/FEDS/blob/main/notebooks/class_notebooks/course_2025_4.ipynb\" target=\"_parent\"><img src=\"https://colab.research.google.com/assets/colab-badge.svg\" alt=\"Open In Colab\"/></a>"
      ]
    },
    {
      "cell_type": "markdown",
      "source": [
        "# Creating data, simple regression, first model"
      ],
      "metadata": {
        "id": "WEqRWNdQOLUg"
      }
    },
    {
      "cell_type": "markdown",
      "source": [
        "# What we gonna do\n",
        "\n",
        "1. create some random data\n",
        "2. using random functions (numpy and scipy.stats)\n",
        "3. building a linear model using a Python function\n",
        "4. visualise the data\n",
        "5. Perform linear regression\n",
        "6. Use estimation for predictions"
      ],
      "metadata": {
        "id": "ZSqL8ph2OmqB"
      }
    },
    {
      "cell_type": "code",
      "execution_count": null,
      "metadata": {
        "id": "bKJB2mqjOF6N"
      },
      "outputs": [],
      "source": [
        "# load some libraries\n",
        "import numpy as np\n",
        "import pandas as pd\n",
        "import matplotlib.pyplot as plt\n",
        "import scipy.stats as sps\n"
      ]
    },
    {
      "cell_type": "code",
      "source": [
        "# setting the stage\n",
        "\n",
        "NDAT = 100\n",
        "\n",
        "# seeding the random number generator\n",
        "rng = np.random.default_rng(seed=42)\n",
        "rng2 = np.random.default_rng(seed=123)"
      ],
      "metadata": {
        "id": "glQJvDV7QYc7"
      },
      "execution_count": null,
      "outputs": []
    },
    {
      "cell_type": "code",
      "source": [
        "rng2"
      ],
      "metadata": {
        "colab": {
          "base_uri": "https://localhost:8080/"
        },
        "id": "zNisXmjZSynE",
        "outputId": "9cdf5b73-0031-46b5-b2f0-3fa7be3768d8"
      },
      "execution_count": null,
      "outputs": [
        {
          "output_type": "execute_result",
          "data": {
            "text/plain": [
              "Generator(PCG64) at 0x79FCC5B08E40"
            ]
          },
          "metadata": {},
          "execution_count": 3
        }
      ]
    },
    {
      "cell_type": "code",
      "source": [
        "# Create the 100 random numbers\n",
        "\n",
        "rng = np.random.default_rng(seed=42)\n",
        "x = rng.random(NDAT) * 50\n",
        "x"
      ],
      "metadata": {
        "colab": {
          "base_uri": "https://localhost:8080/"
        },
        "id": "h4kIfCJlS4pg",
        "outputId": "abafbb71-d270-4d75-8d0f-bd3f47916ddd"
      },
      "execution_count": null,
      "outputs": [
        {
          "output_type": "execute_result",
          "data": {
            "text/plain": [
              "array([38.69780243, 21.94392199, 42.929896  , 34.86840145,  4.70886739,\n",
              "       48.78111758, 38.0569851 , 39.30321526,  6.40568163, 22.51929689,\n",
              "       18.53990121, 46.33824944, 32.193256  , 41.13808066, 22.17070994,\n",
              "       11.36193609, 27.72923935,  3.19086281, 41.3815586 , 31.58321996,\n",
              "       37.904387  , 17.72629841, 48.53490122, 44.65605607, 38.91917485,\n",
              "        9.73193539, 23.33605019,  2.19018829,  7.7144746 , 34.15244766,\n",
              "       37.2381078 , 48.37548662, 16.29126791, 18.5229853 , 23.47779056,\n",
              "        9.47356795,  6.49607527, 23.78524631, 11.34546745, 33.49069973,\n",
              "       21.85759594, 41.6339098 , 35.0132551 , 15.61833207, 41.61299007,\n",
              "       40.23821787, 19.37391895, 14.4164052 , 34.1247752 ,  6.98762418,\n",
              "        9.99541012,  0.36811349, 39.34621888, 33.24254283, 35.25826893,\n",
              "       39.03645155, 22.94578878, 28.4370598 ,  6.98984991,  5.72650368,\n",
              "       33.42014809, 23.55481031, 28.26180532, 38.24994287, 31.735916  ,\n",
              "       27.67897003, 27.96035804, 15.1975049 ,  1.54089173, 21.83586946,\n",
              "       10.72923364, 20.42643219, 42.67015366, 11.69697429,  2.91513708,\n",
              "       14.0691946 , 14.67968789, 33.09582574, 27.85160762, 39.19491046,\n",
              "       33.21567702, 20.31934307, 40.70101923,  8.348646  ,  1.13560366,\n",
              "        4.50239304, 36.11796753, 23.09386151,  8.06358895, 25.05223876,\n",
              "        7.61560514, 34.81601875, 22.30781378, 19.0510613 , 15.07560446,\n",
              "       31.51412966, 18.09063053,  4.38249597,  5.90029511, 48.09488323])"
            ]
          },
          "metadata": {},
          "execution_count": 4
        }
      ]
    },
    {
      "cell_type": "code",
      "source": [
        "# Create a normal distributed data set\n",
        "\n",
        "rng2 = np.random.default_rng(seed=123)\n",
        "e = rng2.normal(loc=0, scale=10, size=NDAT)\n",
        "e"
      ],
      "metadata": {
        "colab": {
          "base_uri": "https://localhost:8080/"
        },
        "id": "Dd44xfW_ThTz",
        "outputId": "f108e43a-bd1e-4c41-c945-ccb6fb6ba5bb"
      },
      "execution_count": null,
      "outputs": [
        {
          "output_type": "execute_result",
          "data": {
            "text/plain": [
              "array([ -9.8912135 ,  -3.67786651,  12.87925261,   1.93974419,\n",
              "         9.202309  ,   5.77103791,  -6.36463646,   5.4195222 ,\n",
              "        -3.16595451,  -3.22389116,   0.97167319, -15.25930407,\n",
              "        11.92166104,  -6.71089675,  10.0026942 ,   1.36321124,\n",
              "        15.3203308 ,  -6.59969414,  -3.11794856,   3.37769127,\n",
              "       -22.07471098,   8.27921442,  15.41630395,  11.26806793,\n",
              "         7.54769644,  -1.45977893,  12.81902227,  10.74030622,\n",
              "         3.92620845,   0.05114313,  -3.61766872, -12.30232195,\n",
              "        12.26229293, -21.72043887,  -3.70147346,   1.6438007 ,\n",
              "         8.59881185,  17.61661237,   9.93323776,  -2.91521426,\n",
              "         7.28127558, -12.61600317,  14.29938527,  -1.56475325,\n",
              "        -6.7375915 ,  -6.390601  ,  -0.61361328,  -3.92784923,\n",
              "        22.89909947,  -7.18181148,   0.32607743,   0.28049896,\n",
              "         0.28272123,   0.55345862,  -4.81562858,  -5.834075  ,\n",
              "        -8.62160502, -14.88174613,   2.16306833,   9.84376351,\n",
              "        -5.43084141,  -5.58615039,  -3.16482829,  -4.60639741,\n",
              "       -14.36269749,  13.65108032,   4.38999888,  -7.11695027,\n",
              "         2.97171762,  -4.38457273,  -2.11637433,   3.63963832,\n",
              "         9.52964492,  15.19524129,  17.03909449,  -2.48858707,\n",
              "        -4.99748591,   0.99597502,   1.28343212,  -7.34221892,\n",
              "        -6.20475288,   8.1327372 ,  16.41801014,  -2.26500848,\n",
              "        -6.47965211,  -2.83371207,  -9.9513136 ,  -2.7287177 ,\n",
              "         4.22444141,  -0.81342962,  12.34577597,   1.50888032,\n",
              "         4.81119527,  -1.48757532,  13.15665707, -12.22345602,\n",
              "        -3.0359134 , -11.73688676,   8.26273507,   8.5032229 ])"
            ]
          },
          "metadata": {},
          "execution_count": 5
        }
      ]
    },
    {
      "cell_type": "code",
      "source": [
        "# create a Python function\n",
        "\n",
        "def greet(name):\n",
        "    return f\"Hello, {name}!\"\n",
        "    # return \"Hello, \" + name + \"!\"\n",
        "\n",
        "greet(\"Steffen\")"
      ],
      "metadata": {
        "colab": {
          "base_uri": "https://localhost:8080/",
          "height": 36
        },
        "id": "C6zCphcuU3Di",
        "outputId": "261daa7b-5e01-4580-8259-0bacd82229bc"
      },
      "execution_count": null,
      "outputs": [
        {
          "output_type": "execute_result",
          "data": {
            "text/plain": [
              "'Hello, Steffen!'"
            ],
            "application/vnd.google.colaboratory.intrinsic+json": {
              "type": "string"
            }
          },
          "metadata": {},
          "execution_count": 6
        }
      ]
    },
    {
      "cell_type": "code",
      "source": [
        "# create a function to define a linear  model y = m*x + b\n",
        "\n",
        "def my_linear_model(x, m=4, b=20, error=0):\n",
        "    return m*x + b + error"
      ],
      "metadata": {
        "id": "FO6NLrbxWG0y"
      },
      "execution_count": null,
      "outputs": []
    },
    {
      "cell_type": "code",
      "source": [
        "y = my_linear_model(x, error=e)\n",
        "y"
      ],
      "metadata": {
        "colab": {
          "base_uri": "https://localhost:8080/"
        },
        "id": "3ZLECFpAZNY_",
        "outputId": "e2eb5eb9-9f5e-4718-9b71-d558f678456e"
      },
      "execution_count": null,
      "outputs": [
        {
          "output_type": "execute_result",
          "data": {
            "text/plain": [
              "array([164.89999621, 104.09782144, 204.5988366 , 161.41335   ,\n",
              "        48.03777857, 220.89550824, 165.86330393, 182.63238326,\n",
              "        42.45677202, 106.85329642,  95.13127803, 190.0936937 ,\n",
              "       160.69468506, 177.8414259 , 118.68553396,  66.8109556 ,\n",
              "       146.2372882 ,  26.16375708, 182.40828583, 149.71057109,\n",
              "       149.54283704,  99.18440804, 229.55590883, 209.8922922 ,\n",
              "       183.22439586,  57.46796264, 126.16322302,  39.50105938,\n",
              "        54.78410686, 156.66093378, 165.33476246, 201.19962453,\n",
              "        97.42736456,  72.37150234, 110.2096888 ,  59.53807251,\n",
              "        54.58311291, 132.75759761,  75.31510757, 151.04758468,\n",
              "       114.71165935, 173.91963604, 174.35240567,  80.90857503,\n",
              "       179.71436878, 174.5622705 ,  96.88206253,  73.73777156,\n",
              "       179.39820027,  40.76868524,  60.30771793,  21.75295291,\n",
              "       177.66759673, 153.52362994, 156.21744714, 170.3117312 ,\n",
              "       103.16155009, 118.86649306,  50.12246796,  52.74977821,\n",
              "       148.24975095, 108.63309084, 129.882393  , 168.39337407,\n",
              "       132.58096651, 144.36696045, 136.23143102,  73.67306934,\n",
              "        29.13528453, 102.95890512,  60.80056023, 105.34536706,\n",
              "       200.21025957,  81.98313847,  48.69964283,  73.78819133,\n",
              "        73.72126564, 153.37927796, 132.68986259, 169.4374229 ,\n",
              "       146.65795518, 109.41010949, 199.22208707,  51.1295755 ,\n",
              "        18.06276252,  35.17586009, 154.52055652, 109.64672835,\n",
              "        56.47879722, 119.3955254 ,  62.80819651, 160.77295534,\n",
              "       114.04245039,  94.7166699 ,  93.4590749 , 133.8330626 ,\n",
              "        89.32660871,  25.79309711,  51.86391549, 220.88275581])"
            ]
          },
          "metadata": {},
          "execution_count": 8
        }
      ]
    },
    {
      "cell_type": "code",
      "source": [
        "df = pd.DataFrame({\n",
        "    \"x\": x,\n",
        "    \"y\": y,\n",
        "    \"e\":e})\n",
        "\n",
        "df"
      ],
      "metadata": {
        "colab": {
          "base_uri": "https://localhost:8080/",
          "height": 423
        },
        "id": "U-teUmbCZPu-",
        "outputId": "ec893ba1-20e7-4a0f-c680-96cf60c85793"
      },
      "execution_count": null,
      "outputs": [
        {
          "output_type": "execute_result",
          "data": {
            "text/plain": [
              "            x           y          e\n",
              "0   38.697802  164.899996  -9.891214\n",
              "1   21.943922  104.097821  -3.677867\n",
              "2   42.929896  204.598837  12.879253\n",
              "3   34.868401  161.413350   1.939744\n",
              "4    4.708867   48.037779   9.202309\n",
              "..        ...         ...        ...\n",
              "95  31.514130  133.833063 -12.223456\n",
              "96  18.090631   89.326609  -3.035913\n",
              "97   4.382496   25.793097 -11.736887\n",
              "98   5.900295   51.863915   8.262735\n",
              "99  48.094883  220.882756   8.503223\n",
              "\n",
              "[100 rows x 3 columns]"
            ],
            "text/html": [
              "\n",
              "  <div id=\"df-4f177e3d-33b3-4fa2-aaff-b064d81c1a29\" class=\"colab-df-container\">\n",
              "    <div>\n",
              "<style scoped>\n",
              "    .dataframe tbody tr th:only-of-type {\n",
              "        vertical-align: middle;\n",
              "    }\n",
              "\n",
              "    .dataframe tbody tr th {\n",
              "        vertical-align: top;\n",
              "    }\n",
              "\n",
              "    .dataframe thead th {\n",
              "        text-align: right;\n",
              "    }\n",
              "</style>\n",
              "<table border=\"1\" class=\"dataframe\">\n",
              "  <thead>\n",
              "    <tr style=\"text-align: right;\">\n",
              "      <th></th>\n",
              "      <th>x</th>\n",
              "      <th>y</th>\n",
              "      <th>e</th>\n",
              "    </tr>\n",
              "  </thead>\n",
              "  <tbody>\n",
              "    <tr>\n",
              "      <th>0</th>\n",
              "      <td>38.697802</td>\n",
              "      <td>164.899996</td>\n",
              "      <td>-9.891214</td>\n",
              "    </tr>\n",
              "    <tr>\n",
              "      <th>1</th>\n",
              "      <td>21.943922</td>\n",
              "      <td>104.097821</td>\n",
              "      <td>-3.677867</td>\n",
              "    </tr>\n",
              "    <tr>\n",
              "      <th>2</th>\n",
              "      <td>42.929896</td>\n",
              "      <td>204.598837</td>\n",
              "      <td>12.879253</td>\n",
              "    </tr>\n",
              "    <tr>\n",
              "      <th>3</th>\n",
              "      <td>34.868401</td>\n",
              "      <td>161.413350</td>\n",
              "      <td>1.939744</td>\n",
              "    </tr>\n",
              "    <tr>\n",
              "      <th>4</th>\n",
              "      <td>4.708867</td>\n",
              "      <td>48.037779</td>\n",
              "      <td>9.202309</td>\n",
              "    </tr>\n",
              "    <tr>\n",
              "      <th>...</th>\n",
              "      <td>...</td>\n",
              "      <td>...</td>\n",
              "      <td>...</td>\n",
              "    </tr>\n",
              "    <tr>\n",
              "      <th>95</th>\n",
              "      <td>31.514130</td>\n",
              "      <td>133.833063</td>\n",
              "      <td>-12.223456</td>\n",
              "    </tr>\n",
              "    <tr>\n",
              "      <th>96</th>\n",
              "      <td>18.090631</td>\n",
              "      <td>89.326609</td>\n",
              "      <td>-3.035913</td>\n",
              "    </tr>\n",
              "    <tr>\n",
              "      <th>97</th>\n",
              "      <td>4.382496</td>\n",
              "      <td>25.793097</td>\n",
              "      <td>-11.736887</td>\n",
              "    </tr>\n",
              "    <tr>\n",
              "      <th>98</th>\n",
              "      <td>5.900295</td>\n",
              "      <td>51.863915</td>\n",
              "      <td>8.262735</td>\n",
              "    </tr>\n",
              "    <tr>\n",
              "      <th>99</th>\n",
              "      <td>48.094883</td>\n",
              "      <td>220.882756</td>\n",
              "      <td>8.503223</td>\n",
              "    </tr>\n",
              "  </tbody>\n",
              "</table>\n",
              "<p>100 rows × 3 columns</p>\n",
              "</div>\n",
              "    <div class=\"colab-df-buttons\">\n",
              "\n",
              "  <div class=\"colab-df-container\">\n",
              "    <button class=\"colab-df-convert\" onclick=\"convertToInteractive('df-4f177e3d-33b3-4fa2-aaff-b064d81c1a29')\"\n",
              "            title=\"Convert this dataframe to an interactive table.\"\n",
              "            style=\"display:none;\">\n",
              "\n",
              "  <svg xmlns=\"http://www.w3.org/2000/svg\" height=\"24px\" viewBox=\"0 -960 960 960\">\n",
              "    <path d=\"M120-120v-720h720v720H120Zm60-500h600v-160H180v160Zm220 220h160v-160H400v160Zm0 220h160v-160H400v160ZM180-400h160v-160H180v160Zm440 0h160v-160H620v160ZM180-180h160v-160H180v160Zm440 0h160v-160H620v160Z\"/>\n",
              "  </svg>\n",
              "    </button>\n",
              "\n",
              "  <style>\n",
              "    .colab-df-container {\n",
              "      display:flex;\n",
              "      gap: 12px;\n",
              "    }\n",
              "\n",
              "    .colab-df-convert {\n",
              "      background-color: #E8F0FE;\n",
              "      border: none;\n",
              "      border-radius: 50%;\n",
              "      cursor: pointer;\n",
              "      display: none;\n",
              "      fill: #1967D2;\n",
              "      height: 32px;\n",
              "      padding: 0 0 0 0;\n",
              "      width: 32px;\n",
              "    }\n",
              "\n",
              "    .colab-df-convert:hover {\n",
              "      background-color: #E2EBFA;\n",
              "      box-shadow: 0px 1px 2px rgba(60, 64, 67, 0.3), 0px 1px 3px 1px rgba(60, 64, 67, 0.15);\n",
              "      fill: #174EA6;\n",
              "    }\n",
              "\n",
              "    .colab-df-buttons div {\n",
              "      margin-bottom: 4px;\n",
              "    }\n",
              "\n",
              "    [theme=dark] .colab-df-convert {\n",
              "      background-color: #3B4455;\n",
              "      fill: #D2E3FC;\n",
              "    }\n",
              "\n",
              "    [theme=dark] .colab-df-convert:hover {\n",
              "      background-color: #434B5C;\n",
              "      box-shadow: 0px 1px 3px 1px rgba(0, 0, 0, 0.15);\n",
              "      filter: drop-shadow(0px 1px 2px rgba(0, 0, 0, 0.3));\n",
              "      fill: #FFFFFF;\n",
              "    }\n",
              "  </style>\n",
              "\n",
              "    <script>\n",
              "      const buttonEl =\n",
              "        document.querySelector('#df-4f177e3d-33b3-4fa2-aaff-b064d81c1a29 button.colab-df-convert');\n",
              "      buttonEl.style.display =\n",
              "        google.colab.kernel.accessAllowed ? 'block' : 'none';\n",
              "\n",
              "      async function convertToInteractive(key) {\n",
              "        const element = document.querySelector('#df-4f177e3d-33b3-4fa2-aaff-b064d81c1a29');\n",
              "        const dataTable =\n",
              "          await google.colab.kernel.invokeFunction('convertToInteractive',\n",
              "                                                    [key], {});\n",
              "        if (!dataTable) return;\n",
              "\n",
              "        const docLinkHtml = 'Like what you see? Visit the ' +\n",
              "          '<a target=\"_blank\" href=https://colab.research.google.com/notebooks/data_table.ipynb>data table notebook</a>'\n",
              "          + ' to learn more about interactive tables.';\n",
              "        element.innerHTML = '';\n",
              "        dataTable['output_type'] = 'display_data';\n",
              "        await google.colab.output.renderOutput(dataTable, element);\n",
              "        const docLink = document.createElement('div');\n",
              "        docLink.innerHTML = docLinkHtml;\n",
              "        element.appendChild(docLink);\n",
              "      }\n",
              "    </script>\n",
              "  </div>\n",
              "\n",
              "\n",
              "<div id=\"df-c3dcb3e7-414f-442f-b77b-21c9d202ef7e\">\n",
              "  <button class=\"colab-df-quickchart\" onclick=\"quickchart('df-c3dcb3e7-414f-442f-b77b-21c9d202ef7e')\"\n",
              "            title=\"Suggest charts\"\n",
              "            style=\"display:none;\">\n",
              "\n",
              "<svg xmlns=\"http://www.w3.org/2000/svg\" height=\"24px\"viewBox=\"0 0 24 24\"\n",
              "     width=\"24px\">\n",
              "    <g>\n",
              "        <path d=\"M19 3H5c-1.1 0-2 .9-2 2v14c0 1.1.9 2 2 2h14c1.1 0 2-.9 2-2V5c0-1.1-.9-2-2-2zM9 17H7v-7h2v7zm4 0h-2V7h2v10zm4 0h-2v-4h2v4z\"/>\n",
              "    </g>\n",
              "</svg>\n",
              "  </button>\n",
              "\n",
              "<style>\n",
              "  .colab-df-quickchart {\n",
              "      --bg-color: #E8F0FE;\n",
              "      --fill-color: #1967D2;\n",
              "      --hover-bg-color: #E2EBFA;\n",
              "      --hover-fill-color: #174EA6;\n",
              "      --disabled-fill-color: #AAA;\n",
              "      --disabled-bg-color: #DDD;\n",
              "  }\n",
              "\n",
              "  [theme=dark] .colab-df-quickchart {\n",
              "      --bg-color: #3B4455;\n",
              "      --fill-color: #D2E3FC;\n",
              "      --hover-bg-color: #434B5C;\n",
              "      --hover-fill-color: #FFFFFF;\n",
              "      --disabled-bg-color: #3B4455;\n",
              "      --disabled-fill-color: #666;\n",
              "  }\n",
              "\n",
              "  .colab-df-quickchart {\n",
              "    background-color: var(--bg-color);\n",
              "    border: none;\n",
              "    border-radius: 50%;\n",
              "    cursor: pointer;\n",
              "    display: none;\n",
              "    fill: var(--fill-color);\n",
              "    height: 32px;\n",
              "    padding: 0;\n",
              "    width: 32px;\n",
              "  }\n",
              "\n",
              "  .colab-df-quickchart:hover {\n",
              "    background-color: var(--hover-bg-color);\n",
              "    box-shadow: 0 1px 2px rgba(60, 64, 67, 0.3), 0 1px 3px 1px rgba(60, 64, 67, 0.15);\n",
              "    fill: var(--button-hover-fill-color);\n",
              "  }\n",
              "\n",
              "  .colab-df-quickchart-complete:disabled,\n",
              "  .colab-df-quickchart-complete:disabled:hover {\n",
              "    background-color: var(--disabled-bg-color);\n",
              "    fill: var(--disabled-fill-color);\n",
              "    box-shadow: none;\n",
              "  }\n",
              "\n",
              "  .colab-df-spinner {\n",
              "    border: 2px solid var(--fill-color);\n",
              "    border-color: transparent;\n",
              "    border-bottom-color: var(--fill-color);\n",
              "    animation:\n",
              "      spin 1s steps(1) infinite;\n",
              "  }\n",
              "\n",
              "  @keyframes spin {\n",
              "    0% {\n",
              "      border-color: transparent;\n",
              "      border-bottom-color: var(--fill-color);\n",
              "      border-left-color: var(--fill-color);\n",
              "    }\n",
              "    20% {\n",
              "      border-color: transparent;\n",
              "      border-left-color: var(--fill-color);\n",
              "      border-top-color: var(--fill-color);\n",
              "    }\n",
              "    30% {\n",
              "      border-color: transparent;\n",
              "      border-left-color: var(--fill-color);\n",
              "      border-top-color: var(--fill-color);\n",
              "      border-right-color: var(--fill-color);\n",
              "    }\n",
              "    40% {\n",
              "      border-color: transparent;\n",
              "      border-right-color: var(--fill-color);\n",
              "      border-top-color: var(--fill-color);\n",
              "    }\n",
              "    60% {\n",
              "      border-color: transparent;\n",
              "      border-right-color: var(--fill-color);\n",
              "    }\n",
              "    80% {\n",
              "      border-color: transparent;\n",
              "      border-right-color: var(--fill-color);\n",
              "      border-bottom-color: var(--fill-color);\n",
              "    }\n",
              "    90% {\n",
              "      border-color: transparent;\n",
              "      border-bottom-color: var(--fill-color);\n",
              "    }\n",
              "  }\n",
              "</style>\n",
              "\n",
              "  <script>\n",
              "    async function quickchart(key) {\n",
              "      const quickchartButtonEl =\n",
              "        document.querySelector('#' + key + ' button');\n",
              "      quickchartButtonEl.disabled = true;  // To prevent multiple clicks.\n",
              "      quickchartButtonEl.classList.add('colab-df-spinner');\n",
              "      try {\n",
              "        const charts = await google.colab.kernel.invokeFunction(\n",
              "            'suggestCharts', [key], {});\n",
              "      } catch (error) {\n",
              "        console.error('Error during call to suggestCharts:', error);\n",
              "      }\n",
              "      quickchartButtonEl.classList.remove('colab-df-spinner');\n",
              "      quickchartButtonEl.classList.add('colab-df-quickchart-complete');\n",
              "    }\n",
              "    (() => {\n",
              "      let quickchartButtonEl =\n",
              "        document.querySelector('#df-c3dcb3e7-414f-442f-b77b-21c9d202ef7e button');\n",
              "      quickchartButtonEl.style.display =\n",
              "        google.colab.kernel.accessAllowed ? 'block' : 'none';\n",
              "    })();\n",
              "  </script>\n",
              "</div>\n",
              "\n",
              "  <div id=\"id_68e26026-706b-45bb-8c62-2cb47dd4d238\">\n",
              "    <style>\n",
              "      .colab-df-generate {\n",
              "        background-color: #E8F0FE;\n",
              "        border: none;\n",
              "        border-radius: 50%;\n",
              "        cursor: pointer;\n",
              "        display: none;\n",
              "        fill: #1967D2;\n",
              "        height: 32px;\n",
              "        padding: 0 0 0 0;\n",
              "        width: 32px;\n",
              "      }\n",
              "\n",
              "      .colab-df-generate:hover {\n",
              "        background-color: #E2EBFA;\n",
              "        box-shadow: 0px 1px 2px rgba(60, 64, 67, 0.3), 0px 1px 3px 1px rgba(60, 64, 67, 0.15);\n",
              "        fill: #174EA6;\n",
              "      }\n",
              "\n",
              "      [theme=dark] .colab-df-generate {\n",
              "        background-color: #3B4455;\n",
              "        fill: #D2E3FC;\n",
              "      }\n",
              "\n",
              "      [theme=dark] .colab-df-generate:hover {\n",
              "        background-color: #434B5C;\n",
              "        box-shadow: 0px 1px 3px 1px rgba(0, 0, 0, 0.15);\n",
              "        filter: drop-shadow(0px 1px 2px rgba(0, 0, 0, 0.3));\n",
              "        fill: #FFFFFF;\n",
              "      }\n",
              "    </style>\n",
              "    <button class=\"colab-df-generate\" onclick=\"generateWithVariable('df')\"\n",
              "            title=\"Generate code using this dataframe.\"\n",
              "            style=\"display:none;\">\n",
              "\n",
              "  <svg xmlns=\"http://www.w3.org/2000/svg\" height=\"24px\"viewBox=\"0 0 24 24\"\n",
              "       width=\"24px\">\n",
              "    <path d=\"M7,19H8.4L18.45,9,17,7.55,7,17.6ZM5,21V16.75L18.45,3.32a2,2,0,0,1,2.83,0l1.4,1.43a1.91,1.91,0,0,1,.58,1.4,1.91,1.91,0,0,1-.58,1.4L9.25,21ZM18.45,9,17,7.55Zm-12,3A5.31,5.31,0,0,0,4.9,8.1,5.31,5.31,0,0,0,1,6.5,5.31,5.31,0,0,0,4.9,4.9,5.31,5.31,0,0,0,6.5,1,5.31,5.31,0,0,0,8.1,4.9,5.31,5.31,0,0,0,12,6.5,5.46,5.46,0,0,0,6.5,12Z\"/>\n",
              "  </svg>\n",
              "    </button>\n",
              "    <script>\n",
              "      (() => {\n",
              "      const buttonEl =\n",
              "        document.querySelector('#id_68e26026-706b-45bb-8c62-2cb47dd4d238 button.colab-df-generate');\n",
              "      buttonEl.style.display =\n",
              "        google.colab.kernel.accessAllowed ? 'block' : 'none';\n",
              "\n",
              "      buttonEl.onclick = () => {\n",
              "        google.colab.notebook.generateWithVariable('df');\n",
              "      }\n",
              "      })();\n",
              "    </script>\n",
              "  </div>\n",
              "\n",
              "    </div>\n",
              "  </div>\n"
            ],
            "application/vnd.google.colaboratory.intrinsic+json": {
              "type": "dataframe",
              "variable_name": "df",
              "summary": "{\n  \"name\": \"df\",\n  \"rows\": 100,\n  \"fields\": [\n    {\n      \"column\": \"x\",\n      \"properties\": {\n        \"dtype\": \"number\",\n        \"std\": 13.680981894352684,\n        \"min\": 0.3681134875502756,\n        \"max\": 48.7811175818378,\n        \"num_unique_values\": 100,\n        \"samples\": [\n          8.348645995385196,\n          33.242542829601604,\n          10.72923364097646\n        ],\n        \"semantic_type\": \"\",\n        \"description\": \"\"\n      }\n    },\n    {\n      \"column\": \"y\",\n      \"properties\": {\n        \"dtype\": \"number\",\n        \"std\": 54.429743779789874,\n        \"min\": 18.0627625168187,\n        \"max\": 229.55590882588683,\n        \"num_unique_values\": 100,\n        \"samples\": [\n          51.12957549774906,\n          153.5236299379335,\n          60.800560230159036\n        ],\n        \"semantic_type\": \"\",\n        \"description\": \"\"\n      }\n    },\n    {\n      \"column\": \"e\",\n      \"properties\": {\n        \"dtype\": \"number\",\n        \"std\": 8.995104008717448,\n        \"min\": -22.07471098199804,\n        \"max\": 22.899099473145785,\n        \"num_unique_values\": 100,\n        \"samples\": [\n          -2.265008483791723,\n          0.5534586195270899,\n          -2.1163743337468013\n        ],\n        \"semantic_type\": \"\",\n        \"description\": \"\"\n      }\n    }\n  ]\n}"
            }
          },
          "metadata": {},
          "execution_count": 9
        }
      ]
    },
    {
      "cell_type": "code",
      "source": [
        "plt.scatter(df.x, df.y)"
      ],
      "metadata": {
        "colab": {
          "base_uri": "https://localhost:8080/",
          "height": 447
        },
        "id": "eq8nv58dZ_DA",
        "outputId": "daecac59-dab0-4192-8a5a-e9625b43ee89"
      },
      "execution_count": null,
      "outputs": [
        {
          "output_type": "execute_result",
          "data": {
            "text/plain": [
              "<matplotlib.collections.PathCollection at 0x79fccd5ace50>"
            ]
          },
          "metadata": {},
          "execution_count": 10
        },
        {
          "output_type": "display_data",
          "data": {
            "text/plain": [
              "<Figure size 640x480 with 1 Axes>"
            ],
            "image/png": "[encoded data removed]"
          },
          "metadata": {}
        }
      ]
    },
    {
      "cell_type": "markdown",
      "source": [
        "### Percentage Point Function (PPF)\n",
        "The Percentage Point Function (PPF), also known as the inverse cumulative distribution function (CDF), is the mathematical function that provides the value for which a given percentage of observations fall below. In simpler terms, it gives the cutoff value for a specified percentile or probability.\n",
        "\n",
        "For example, if you have a normal distribution and you want to find the value below which 95% of the data falls, you would use the PPF to obtain this value.\n",
        "\n",
        "The PPF is the inverse of the CDF. While the CDF gives the probability that a random variable is less than or equal to a specified point, the PPF gives the point for which a certain probability is less than or equal to."
      ],
      "metadata": {
        "id": "HZFlfYSEy3uC"
      }
    },
    {
      "cell_type": "code",
      "source": [
        "# run a linear regression\n",
        "lm = sps.linregress(df.x, df.y)\n",
        "lm\n",
        "\n",
        "# make information on our regression readable\n",
        "print(f\"Regression result: y = {lm.slope:.2f} * x + {lm.intercept:.2f}\") # print the function we got\n",
        "print(f\"True values      : y = {4} * x + {20}\\n\") # print the true function\n",
        "print(f\"r-squared        : {lm.rvalue:.6f}\") # print the r-squared value\n",
        "print(f\"p-value          : {lm.pvalue:.6f} => {lm.pvalue:.6g}\") # print the p-value\n",
        "\n",
        "# import the student t-test data\n",
        "from scipy.stats import t\n",
        "tinv = lambda p, dfr: abs(t.ppf(p, dfr)) # create t-test table with prob p and degree of freedom dfr\n",
        "ts = tinv(0.05, len(df.x)-2) # calculate t-value from the table dfr - 2 is two-sided-test\n",
        "\n",
        "print(f\"t-value          : {ts:.6f}\")\n",
        "print(f\"slope (95%)      : {lm.slope:.6f} +/- {ts*lm.stderr:.6f}\")\n",
        "print(f\"intercept (95%)  : {lm.intercept:.6f} +/- {ts*lm.intercept_stderr:.6f}\")\n"
      ],
      "metadata": {
        "colab": {
          "base_uri": "https://localhost:8080/"
        },
        "id": "9O7la_PtaKpg",
        "outputId": "ad58c5a8-c9b0-4f23-acac-c7a8c6747bb2"
      },
      "execution_count": null,
      "outputs": [
        {
          "output_type": "stream",
          "name": "stdout",
          "text": [
            "Regression result: y = 3.92 * x + 22.66\n",
            "True values      : y = 4 * x + 20\n",
            "\n",
            "r-squared        : 0.986432\n",
            "p-value          : 0.000000 => 1.02175e-78\n",
            "t-value          : 1.660551\n",
            "slope (95%)      : 3.924518 +/- 0.109559\n",
            "intercept (95%)  : 22.656070 +/- 3.054971\n"
          ]
        }
      ]
    },
    {
      "cell_type": "markdown",
      "source": [
        "Because the p value is very small (<0.05) the slope and intercept are significant. We can reject the zero hypothesis that the slope is 0.\n",
        "\n",
        "From the t-test we get now the uncertainty of the slope and intercept with regard to the 95% interval."
      ],
      "metadata": {
        "id": "6Yl5t8tp103k"
      }
    },
    {
      "cell_type": "code",
      "source": [
        "# plot the results\n",
        "\n",
        "plt.scatter(df.x, df.y, label=\"data\")\n",
        "\n",
        "\n",
        "plt.plot(df.x, lm.slope*df.x + lm.intercept, color=\"red\", label=\"regression\")\n",
        "plt.plot(df.x, 4*df.x + 20, color=\"green\", label=\"original\")\n",
        "\n",
        "plt.legend()\n",
        "plt.xlabel(\"x\")\n",
        "plt.ylabel(\"y\")"
      ],
      "metadata": {
        "colab": {
          "base_uri": "https://localhost:8080/",
          "height": 466
        },
        "id": "XOq5q9UTd5yP",
        "outputId": "41ad884c-5cfd-4d23-968c-e72babe3bc28"
      },
      "execution_count": null,
      "outputs": [
        {
          "output_type": "execute_result",
          "data": {
            "text/plain": [
              "Text(0, 0.5, 'y')"
            ]
          },
          "metadata": {},
          "execution_count": 12
        },
        {
          "output_type": "display_data",
          "data": {
            "text/plain": [
              "<Figure size 640x480 with 1 Axes>"
            ],
            "image/png": "[encoded data removed]"
          },
          "metadata": {}
        }
      ]
    },
    {
      "cell_type": "markdown",
      "source": [
        "## Make predictions"
      ],
      "metadata": {
        "id": "p7E2UtLCV0R_"
      }
    },
    {
      "cell_type": "code",
      "source": [
        "# Create new x values with extrapolation\n",
        "EXTRAPOL = 70\n",
        "ext_points = [round(max(x)), EXTRAPOL] # x values for extrapolation\n",
        "line_points = [0, max(x)]  # x values cover range of random data\n",
        "\n",
        "# plot the data\n",
        "plt.scatter(df.x, df.y, label=\"data\")\n",
        "\n",
        "# plot the regression line\n",
        "plt.plot(df.x, lm.slope*df.x + lm.intercept, color=\"red\", label=\"regression\")\n",
        "\n",
        "# plot the extrapolation\n",
        "plt.plot(ext_points, lm.slope*np.array(ext_points) + lm.intercept, color=\"green\", label=\"extrapolation\")\n",
        "\n",
        "plt.xlim(0, EXTRAPOL)\n",
        "plt.legend(loc=\"lower right\")\n",
        "plt.xlabel(\"x\")\n",
        "plt.ylabel(\"y\")\n",
        "plt.show()"
      ],
      "metadata": {
        "colab": {
          "base_uri": "https://localhost:8080/",
          "height": 449
        },
        "id": "KDWvxeLuV4Ps",
        "outputId": "0e1409b9-7796-4fc6-df77-68d545bfb2f1"
      },
      "execution_count": null,
      "outputs": [
        {
          "output_type": "display_data",
          "data": {
            "text/plain": [
              "<Figure size 640x480 with 1 Axes>"
            ],
            "image/png": "[encoded data removed]"
          },
          "metadata": {}
        }
      ]
    },
    {
      "cell_type": "markdown",
      "source": [
        "## Use statsmodels to make the linear regression"
      ],
      "metadata": {
        "id": "IX5lP0npZrld"
      }
    },
    {
      "cell_type": "code",
      "source": [
        "# import libs\n",
        "import statsmodels.formula.api as sm\n",
        "import seaborn as sns\n"
      ],
      "metadata": {
        "id": "i26M6rlrXF2U"
      },
      "execution_count": null,
      "outputs": []
    },
    {
      "cell_type": "code",
      "source": [
        "sns.regplot(data=df, x=\"x\", y=\"y\");"
      ],
      "metadata": {
        "colab": {
          "base_uri": "https://localhost:8080/",
          "height": 449
        },
        "id": "J1OApIm9aH4j",
        "outputId": "d1fdd579-b3f8-4454-b50f-4de7b379bc1f"
      },
      "execution_count": null,
      "outputs": [
        {
          "output_type": "display_data",
          "data": {
            "text/plain": [
              "<Figure size 640x480 with 1 Axes>"
            ],
            "image/png": "[encoded data removed]"
          },
          "metadata": {}
        }
      ]
    },
    {
      "cell_type": "markdown",
      "source": [
        "# Regression using statsmodels"
      ],
      "metadata": {
        "id": "26iaMSMwbJDb"
      }
    },
    {
      "cell_type": "code",
      "source": [
        "# perform linear regression\n",
        "lm_sm = sm.ols(formula=\"y ~ x\", data=df).fit()\n",
        "\n",
        "# print the results\n",
        "print(lm_sm.summary())"
      ],
      "metadata": {
        "colab": {
          "base_uri": "https://localhost:8080/"
        },
        "id": "MUMqxKuVbLji",
        "outputId": "decb4bf2-269f-4ab7-919c-223d9600c3dc"
      },
      "execution_count": null,
      "outputs": [
        {
          "output_type": "stream",
          "name": "stdout",
          "text": [
            "                            OLS Regression Results                            \n",
            "==============================================================================\n",
            "Dep. Variable:                      y   R-squared:                       0.973\n",
            "Model:                            OLS   Adj. R-squared:                  0.973\n",
            "Method:                 Least Squares   F-statistic:                     3538.\n",
            "Date:                Tue, 11 Mar 2025   Prob (F-statistic):           1.02e-78\n",
            "Time:                        09:00:11   Log-Likelihood:                -360.40\n",
            "No. Observations:                 100   AIC:                             724.8\n",
            "Df Residuals:                      98   BIC:                             730.0\n",
            "Df Model:                           1                                         \n",
            "Covariance Type:            nonrobust                                         \n",
            "==============================================================================\n",
            "                 coef    std err          t      P>|t|      [0.025      0.975]\n",
            "------------------------------------------------------------------------------\n",
            "Intercept     22.6561      1.840     12.315      0.000      19.005      26.307\n",
            "x              3.9245      0.066     59.483      0.000       3.794       4.055\n",
            "==============================================================================\n",
            "Omnibus:                        0.326   Durbin-Watson:                   2.025\n",
            "Prob(Omnibus):                  0.849   Jarque-Bera (JB):                0.469\n",
            "Skew:                           0.115   Prob(JB):                        0.791\n",
            "Kurtosis:                       2.755   Cond. No.                         57.2\n",
            "==============================================================================\n",
            "\n",
            "Notes:\n",
            "[1] Standard Errors assume that the covariance matrix of the errors is correctly specified.\n"
          ]
        }
      ]
    },
    {
      "cell_type": "code",
      "source": [
        "print(f\"Regression result: y = {lm.slope:.2f} * x + {lm.intercept:.2f}\") # print the function we got\n",
        "print(f\"True values      : y = {4} * x + {20}\\n\") # print the true function\n",
        "print(f\"r-squared        : {lm.rvalue:.6f}\") # print the r-squared value\n",
        "print(f\"p-value          : {lm.pvalue:.6f} => {lm.pvalue:.6g}\") # print the p-value\n",
        "print(f\"slope (95%)      : {lm.slope:.6f} +/- {ts*lm.stderr:.6f}\")\n",
        "print(f\"intercept (95%)  : {lm.intercept:.6f} +/- {ts*lm.intercept_stderr:.6f}\")\n"
      ],
      "metadata": {
        "colab": {
          "base_uri": "https://localhost:8080/"
        },
        "id": "0w2Ljb8vbtaj",
        "outputId": "31691197-61de-4b2f-83b6-7f89de1be9ec"
      },
      "execution_count": null,
      "outputs": [
        {
          "output_type": "stream",
          "name": "stdout",
          "text": [
            "Regression result: y = 3.92 * x + 22.66\n",
            "True values      : y = 4 * x + 20\n",
            "\n",
            "r-squared        : 0.986432\n",
            "p-value          : 0.000000 => 1.02175e-78\n",
            "slope (95%)      : 3.924518 +/- 0.109559\n",
            "intercept (95%)  : 22.656070 +/- 3.054971\n"
          ]
        }
      ]
    },
    {
      "cell_type": "code",
      "source": [
        "# make it super compact\n",
        "print(\n",
        "    df.pipe((sm.ols, \"data\"), \"y ~ x\")\n",
        "    .fit()\n",
        "    .summary()\n",
        ")\n"
      ],
      "metadata": {
        "colab": {
          "base_uri": "https://localhost:8080/"
        },
        "id": "F6jKugDoccgT",
        "outputId": "cb3a9cae-409a-4416-cf45-d24f411556df"
      },
      "execution_count": null,
      "outputs": [
        {
          "output_type": "stream",
          "name": "stdout",
          "text": [
            "                            OLS Regression Results                            \n",
            "==============================================================================\n",
            "Dep. Variable:                      y   R-squared:                       0.973\n",
            "Model:                            OLS   Adj. R-squared:                  0.973\n",
            "Method:                 Least Squares   F-statistic:                     3538.\n",
            "Date:                Tue, 11 Mar 2025   Prob (F-statistic):           1.02e-78\n",
            "Time:                        09:06:06   Log-Likelihood:                -360.40\n",
            "No. Observations:                 100   AIC:                             724.8\n",
            "Df Residuals:                      98   BIC:                             730.0\n",
            "Df Model:                           1                                         \n",
            "Covariance Type:            nonrobust                                         \n",
            "==============================================================================\n",
            "                 coef    std err          t      P>|t|      [0.025      0.975]\n",
            "------------------------------------------------------------------------------\n",
            "Intercept     22.6561      1.840     12.315      0.000      19.005      26.307\n",
            "x              3.9245      0.066     59.483      0.000       3.794       4.055\n",
            "==============================================================================\n",
            "Omnibus:                        0.326   Durbin-Watson:                   2.025\n",
            "Prob(Omnibus):                  0.849   Jarque-Bera (JB):                0.469\n",
            "Skew:                           0.115   Prob(JB):                        0.791\n",
            "Kurtosis:                       2.755   Cond. No.                         57.2\n",
            "==============================================================================\n",
            "\n",
            "Notes:\n",
            "[1] Standard Errors assume that the covariance matrix of the errors is correctly specified.\n"
          ]
        }
      ]
    },
    {
      "cell_type": "markdown",
      "source": [
        "# How random seed works"
      ],
      "metadata": {
        "id": "S9zj4ai1dnDT"
      }
    },
    {
      "cell_type": "code",
      "source": [
        "SEED = 4\n",
        "s = np.random.seed(SEED)\n",
        "\n",
        "for i in range(3):\n",
        "  rf=np.random.uniform(-1.0, 1.0, (3,4))\n",
        "  print(rf)\n"
      ],
      "metadata": {
        "colab": {
          "base_uri": "https://localhost:8080/"
        },
        "id": "xbwF7DFRdEMz",
        "outputId": "2f1c5b63-b228-4442-b12e-8b2bb796eb98"
      },
      "execution_count": null,
      "outputs": [
        {
          "output_type": "stream",
          "name": "stdout",
          "text": [
            "[[ 0.93405968  0.0944645   0.94536872  0.42963199]\n",
            " [ 0.39545765 -0.56782101  0.95254891 -0.98753949]\n",
            " [-0.49403528 -0.13041694  0.55876584 -0.60462985]]\n",
            "[[ 0.72598647  0.96680135 -0.67231552  0.19466789]\n",
            " [-0.9820278  -0.22685743 -0.91167988  0.91330594]\n",
            " [-0.12770671  0.89795461  0.57261197  0.7325786 ]]\n",
            "[[-0.65366916 -0.85010283  0.20148544 -0.66405563]\n",
            " [ 0.46676034 -0.18311228  0.05581765  0.87514317]\n",
            " [ 0.04339224 -0.78361323 -0.68355319  0.0904053 ]]\n"
          ]
        }
      ]
    },
    {
      "cell_type": "markdown",
      "source": [
        "# How the sample size impacts on normal distribution"
      ],
      "metadata": {
        "id": "Zgwf35ppf5Fq"
      }
    },
    {
      "cell_type": "code",
      "source": [
        "rng2 = np.random.default_rng(seed=123)\n",
        "mu, sigma = 0, 10\n",
        "SAMPLE_SIZE = 100 # change to 1000, 100000,...\n",
        "\n",
        "aa = rng2.normal(mu, sigma, SAMPLE_SIZE)\n",
        "print(f\"deviation mu: {abs(mu - np.mean(aa))}, deviation sigma: {abs(sigma - np.std(aa, ddof=1))}\")\n"
      ],
      "metadata": {
        "colab": {
          "base_uri": "https://localhost:8080/"
        },
        "id": "Be7LbaKNf_cK",
        "outputId": "3c79577e-5be8-49e8-e16c-64fac82669e7"
      },
      "execution_count": null,
      "outputs": [
        {
          "output_type": "stream",
          "name": "stdout",
          "text": [
            "deviation mu: 0.8191486006395934, deviation sigma: 1.0048959912825541\n"
          ]
        }
      ]
    },
    {
      "cell_type": "markdown",
      "source": [
        "## Visualise the sample size for normal distribution"
      ],
      "metadata": {
        "id": "5KELbqA8fiDM"
      }
    },
    {
      "cell_type": "code",
      "source": [
        "counts, bins, ignored = plt.hist(aa, 30, density=True)\n",
        "\n",
        "plt.plot(bins,\n",
        "         1/(sigma * np.sqrt(2 * np.pi)) *\n",
        "         np.exp( - (bins - mu)**2 / (2 * sigma**2) ),\n",
        "         linewidth=2, color='r')\n",
        "plt.show()"
      ],
      "metadata": {
        "colab": {
          "base_uri": "https://localhost:8080/",
          "height": 430
        },
        "id": "_bPA5PqXeJTE",
        "outputId": "30c642b0-f0ad-468e-d672-0e9713da39dd"
      },
      "execution_count": null,
      "outputs": [
        {
          "output_type": "display_data",
          "data": {
            "text/plain": [
              "<Figure size 640x480 with 1 Axes>"
            ],
            "image/png": "[encoded data removed]"
          },
          "metadata": {}
        }
      ]
    },
    {
      "cell_type": "code",
      "source": [],
      "metadata": {
        "id": "SxDRdhgvhmeT"
      },
      "execution_count": null,
      "outputs": []
    }
  ]
}