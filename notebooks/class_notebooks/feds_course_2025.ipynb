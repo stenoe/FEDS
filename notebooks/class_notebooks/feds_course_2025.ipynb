{
  "nbformat": 4,
  "nbformat_minor": 0,
  "metadata": {
    "colab": {
      "provenance": [],
      "toc_visible": true,
      "authorship_tag": "ABX9TyPF2NDIJfHNQUSOVRixS6CM",
      "include_colab_link": true
    },
    "kernelspec": {
      "name": "python3",
      "display_name": "Python 3"
    },
    "language_info": {
      "name": "python"
    }
  },
  "cells": [
    {
      "cell_type": "markdown",
      "metadata": {
        "id": "view-in-github",
        "colab_type": "text"
      },
      "source": [
        "<a href=\"https://colab.research.google.com/github/stenoe/FEDS/blob/main/notebooks/class_notebooks/feds_course_2025.ipynb\" target=\"_parent\"><img src=\"https://colab.research.google.com/assets/colab-badge.svg\" alt=\"Open In Colab\"/></a>"
      ]
    },
    {
      "cell_type": "markdown",
      "source": [
        "# 1. Hello world"
      ],
      "metadata": {
        "id": "ArPlRixxPohn"
      }
    },
    {
      "cell_type": "code",
      "execution_count": null,
      "metadata": {
        "colab": {
          "base_uri": "https://localhost:8080/"
        },
        "id": "9SnCHLD8Nrt4",
        "outputId": "c48cd99f-19d8-4ed6-cfda-df24b85a775a"
      },
      "outputs": [
        {
          "output_type": "stream",
          "name": "stdout",
          "text": [
            "Hello Datascience class\n"
          ]
        }
      ],
      "source": [
        "print(\"Hello Datascience class\")"
      ]
    },
    {
      "cell_type": "markdown",
      "source": [
        "# Basic data types"
      ],
      "metadata": {
        "id": "XgpYkdsOQL59"
      }
    },
    {
      "cell_type": "code",
      "source": [
        "a = 13\n",
        "b = 3"
      ],
      "metadata": {
        "id": "Nz4xdhiSQBUx"
      },
      "execution_count": null,
      "outputs": []
    },
    {
      "cell_type": "code",
      "source": [
        "a + b"
      ],
      "metadata": {
        "colab": {
          "base_uri": "https://localhost:8080/"
        },
        "id": "ZRyz65xPQhtA",
        "outputId": "0614d668-f524-4f76-ed4f-f2bc08dcb89a"
      },
      "execution_count": null,
      "outputs": [
        {
          "output_type": "execute_result",
          "data": {
            "text/plain": [
              "16"
            ]
          },
          "metadata": {},
          "execution_count": 13
        }
      ]
    },
    {
      "cell_type": "code",
      "source": [
        "c = a + b"
      ],
      "metadata": {
        "id": "Bdk1rbpTQof_"
      },
      "execution_count": null,
      "outputs": []
    },
    {
      "cell_type": "code",
      "source": [
        "c"
      ],
      "metadata": {
        "colab": {
          "base_uri": "https://localhost:8080/"
        },
        "id": "tP70K_YDRJ9O",
        "outputId": "d227e7c4-2b4b-4446-a51f-83d44208bbf1"
      },
      "execution_count": null,
      "outputs": [
        {
          "output_type": "execute_result",
          "data": {
            "text/plain": [
              "16"
            ]
          },
          "metadata": {},
          "execution_count": 15
        }
      ]
    },
    {
      "cell_type": "markdown",
      "source": [
        "# Import libraries"
      ],
      "metadata": {
        "id": "klP7TsURRaUe"
      }
    },
    {
      "cell_type": "code",
      "source": [
        "import this"
      ],
      "metadata": {
        "colab": {
          "base_uri": "https://localhost:8080/"
        },
        "id": "_mfcawwaRKf2",
        "outputId": "efaca918-e66d-46b0-b7be-ed6a399904f3"
      },
      "execution_count": null,
      "outputs": [
        {
          "output_type": "stream",
          "name": "stdout",
          "text": [
            "The Zen of Python, by Tim Peters\n",
            "\n",
            "Beautiful is better than ugly.\n",
            "Explicit is better than implicit.\n",
            "Simple is better than complex.\n",
            "Complex is better than complicated.\n",
            "Flat is better than nested.\n",
            "Sparse is better than dense.\n",
            "Readability counts.\n",
            "Special cases aren't special enough to break the rules.\n",
            "Although practicality beats purity.\n",
            "Errors should never pass silently.\n",
            "Unless explicitly silenced.\n",
            "In the face of ambiguity, refuse the temptation to guess.\n",
            "There should be one-- and preferably only one --obvious way to do it.\n",
            "Although that way may not be obvious at first unless you're Dutch.\n",
            "Now is better than never.\n",
            "Although never is often better than *right* now.\n",
            "If the implementation is hard to explain, it's a bad idea.\n",
            "If the implementation is easy to explain, it may be a good idea.\n",
            "Namespaces are one honking great idea -- let's do more of those!\n"
          ]
        }
      ]
    },
    {
      "cell_type": "code",
      "source": [
        "import sys\n",
        "sys.version"
      ],
      "metadata": {
        "colab": {
          "base_uri": "https://localhost:8080/",
          "height": 35
        },
        "id": "73dgcmg9RhRa",
        "outputId": "0a155768-b4b6-450f-8b81-9276c9c6574d"
      },
      "execution_count": null,
      "outputs": [
        {
          "output_type": "execute_result",
          "data": {
            "text/plain": [
              "'3.11.11 (main, Dec  4 2024, 08:55:07) [GCC 11.4.0]'"
            ],
            "application/vnd.google.colaboratory.intrinsic+json": {
              "type": "string"
            }
          },
          "metadata": {},
          "execution_count": 17
        }
      ]
    },
    {
      "cell_type": "markdown",
      "source": [
        "## Lists"
      ],
      "metadata": {
        "id": "Pufvio-dTjR9"
      }
    },
    {
      "cell_type": "code",
      "source": [
        "list1 = [10, 20, 30, 40]\n",
        "list1"
      ],
      "metadata": {
        "colab": {
          "base_uri": "https://localhost:8080/"
        },
        "id": "fNHLvDMbSQ2_",
        "outputId": "f6f0b414-5cfe-4080-b027-972cf2a991f9"
      },
      "execution_count": null,
      "outputs": [
        {
          "output_type": "execute_result",
          "data": {
            "text/plain": [
              "[10, 20, 30, 40]"
            ]
          },
          "metadata": {},
          "execution_count": 18
        }
      ]
    },
    {
      "cell_type": "code",
      "source": [
        "list2 = [10, 20, 3.145, \"text\"]\n",
        "list2"
      ],
      "metadata": {
        "colab": {
          "base_uri": "https://localhost:8080/"
        },
        "id": "5mAEuXAnTxxZ",
        "outputId": "cf28e1da-97df-4bc9-e315-0e1b3a2af391"
      },
      "execution_count": null,
      "outputs": [
        {
          "output_type": "execute_result",
          "data": {
            "text/plain": [
              "[10, 20, 3.145, 'text']"
            ]
          },
          "metadata": {},
          "execution_count": 21
        }
      ]
    },
    {
      "cell_type": "code",
      "source": [
        "# adding lists\n",
        "list1 + list2"
      ],
      "metadata": {
        "colab": {
          "base_uri": "https://localhost:8080/"
        },
        "id": "sLB3beWwT85g",
        "outputId": "6a376c87-f460-4441-dc87-5774cd824890"
      },
      "execution_count": null,
      "outputs": [
        {
          "output_type": "execute_result",
          "data": {
            "text/plain": [
              "[10, 20, 30, 40, 10, 20, 3.145, 'text']"
            ]
          },
          "metadata": {},
          "execution_count": 23
        }
      ]
    },
    {
      "cell_type": "code",
      "source": [
        "list2[1]"
      ],
      "metadata": {
        "colab": {
          "base_uri": "https://localhost:8080/"
        },
        "id": "dqq9lrG1UOsf",
        "outputId": "0df2d009-6230-4557-8157-3aedce120f3c"
      },
      "execution_count": null,
      "outputs": [
        {
          "output_type": "execute_result",
          "data": {
            "text/plain": [
              "20"
            ]
          },
          "metadata": {},
          "execution_count": 24
        }
      ]
    },
    {
      "cell_type": "code",
      "source": [
        "list2[0]"
      ],
      "metadata": {
        "colab": {
          "base_uri": "https://localhost:8080/"
        },
        "id": "cZypJ_RLVyPT",
        "outputId": "c5ac7b9a-93b7-4570-8e66-8f1ded8c196d"
      },
      "execution_count": null,
      "outputs": [
        {
          "output_type": "execute_result",
          "data": {
            "text/plain": [
              "10"
            ]
          },
          "metadata": {},
          "execution_count": 26
        }
      ]
    },
    {
      "cell_type": "code",
      "source": [
        "list2[3]"
      ],
      "metadata": {
        "colab": {
          "base_uri": "https://localhost:8080/",
          "height": 35
        },
        "id": "Qot8GcftWIP5",
        "outputId": "d58ba402-3fac-4e6a-d2ef-3d1481aa93b9"
      },
      "execution_count": null,
      "outputs": [
        {
          "output_type": "execute_result",
          "data": {
            "text/plain": [
              "'text'"
            ],
            "application/vnd.google.colaboratory.intrinsic+json": {
              "type": "string"
            }
          },
          "metadata": {},
          "execution_count": 27
        }
      ]
    },
    {
      "cell_type": "code",
      "source": [
        "list2[-1]"
      ],
      "metadata": {
        "colab": {
          "base_uri": "https://localhost:8080/",
          "height": 35
        },
        "id": "-yEx1qhEWUMv",
        "outputId": "cffacbb4-3639-4c48-eade-d7cc62be4c0c"
      },
      "execution_count": null,
      "outputs": [
        {
          "output_type": "execute_result",
          "data": {
            "text/plain": [
              "'text'"
            ],
            "application/vnd.google.colaboratory.intrinsic+json": {
              "type": "string"
            }
          },
          "metadata": {},
          "execution_count": 28
        }
      ]
    },
    {
      "cell_type": "code",
      "source": [
        "len(list2)"
      ],
      "metadata": {
        "colab": {
          "base_uri": "https://localhost:8080/"
        },
        "id": "1CitE9YmWXJJ",
        "outputId": "e5e2b473-634b-4610-bdb6-0517b19b1aad"
      },
      "execution_count": null,
      "outputs": [
        {
          "output_type": "execute_result",
          "data": {
            "text/plain": [
              "4"
            ]
          },
          "metadata": {},
          "execution_count": 29
        }
      ]
    },
    {
      "cell_type": "markdown",
      "source": [
        "# Dictionary"
      ],
      "metadata": {
        "id": "hmGG7OmwW_my"
      }
    },
    {
      "cell_type": "code",
      "source": [
        "dict1 = {\n",
        "    \"name\" : \"Steffen\",\n",
        "    \"job\" : \"Crazy data scientist\",\n",
        "    \"born\" : 1966\n",
        "    }\n",
        "dict1"
      ],
      "metadata": {
        "colab": {
          "base_uri": "https://localhost:8080/"
        },
        "id": "bS0NAKX5W46L",
        "outputId": "890e6057-83d1-482f-8faf-2bf7e920f647"
      },
      "execution_count": null,
      "outputs": [
        {
          "output_type": "execute_result",
          "data": {
            "text/plain": [
              "{'name': 'Steffen', 'job': 'Crazy data scientist', 'born': 1966}"
            ]
          },
          "metadata": {},
          "execution_count": 30
        }
      ]
    },
    {
      "cell_type": "code",
      "source": [
        "dict1[\"job\"]"
      ],
      "metadata": {
        "colab": {
          "base_uri": "https://localhost:8080/",
          "height": 35
        },
        "id": "rc23DI9QXfJ2",
        "outputId": "9d26487e-1c06-4019-8dd0-bc94afa5058b"
      },
      "execution_count": null,
      "outputs": [
        {
          "output_type": "execute_result",
          "data": {
            "text/plain": [
              "'Crazy data scientist'"
            ],
            "application/vnd.google.colaboratory.intrinsic+json": {
              "type": "string"
            }
          },
          "metadata": {},
          "execution_count": 35
        }
      ]
    },
    {
      "cell_type": "code",
      "source": [],
      "metadata": {
        "id": "die1FbeAXqso"
      },
      "execution_count": null,
      "outputs": []
    },
    {
      "cell_type": "markdown",
      "source": [
        "#Fillling a list programatically"
      ],
      "metadata": {
        "id": "9_URdRonYZN8"
      }
    },
    {
      "cell_type": "code",
      "source": [
        "data = [] # empty list\n",
        "\n",
        "for i in range(-50,51,1):\n",
        "    data.append(i)\n",
        "\n",
        "print(data)"
      ],
      "metadata": {
        "colab": {
          "base_uri": "https://localhost:8080/"
        },
        "id": "SEU2ppD9YY4p",
        "outputId": "3f4cc638-ff64-46a9-f4ae-c7dee466b822"
      },
      "execution_count": null,
      "outputs": [
        {
          "output_type": "stream",
          "name": "stdout",
          "text": [
            "[-50, -49, -48, -47, -46, -45, -44, -43, -42, -41, -40, -39, -38, -37, -36, -35, -34, -33, -32, -31, -30, -29, -28, -27, -26, -25, -24, -23, -22, -21, -20, -19, -18, -17, -16, -15, -14, -13, -12, -11, -10, -9, -8, -7, -6, -5, -4, -3, -2, -1, 0, 1, 2, 3, 4, 5, 6, 7, 8, 9, 10, 11, 12, 13, 14, 15, 16, 17, 18, 19, 20, 21, 22, 23, 24, 25, 26, 27, 28, 29, 30, 31, 32, 33, 34, 35, 36, 37, 38, 39, 40, 41, 42, 43, 44, 45, 46, 47, 48, 49, 50]\n"
          ]
        }
      ]
    },
    {
      "cell_type": "code",
      "source": [
        "data * data"
      ],
      "metadata": {
        "colab": {
          "base_uri": "https://localhost:8080/",
          "height": 146
        },
        "id": "jU8cpMbnaWOh",
        "outputId": "86d78cf8-08c0-44fa-ac5f-10111d89a822"
      },
      "execution_count": null,
      "outputs": [
        {
          "output_type": "error",
          "ename": "TypeError",
          "evalue": "can't multiply sequence by non-int of type 'list'",
          "traceback": [
            "\u001b[0;31m---------------------------------------------------------------------------\u001b[0m",
            "\u001b[0;31mTypeError\u001b[0m                                 Traceback (most recent call last)",
            "\u001b[0;32m<ipython-input-3-b7fcf6fe79ae>\u001b[0m in \u001b[0;36m<cell line: 0>\u001b[0;34m()\u001b[0m\n\u001b[0;32m----> 1\u001b[0;31m \u001b[0mdata\u001b[0m \u001b[0;34m*\u001b[0m \u001b[0mdata\u001b[0m\u001b[0;34m\u001b[0m\u001b[0;34m\u001b[0m\u001b[0m\n\u001b[0m",
            "\u001b[0;31mTypeError\u001b[0m: can't multiply sequence by non-int of type 'list'"
          ]
        }
      ]
    },
    {
      "cell_type": "code",
      "source": [
        "result_data = [] # empty list for result\n",
        "\n",
        "for i in range(len(data)):\n",
        "    result_data.append(data[i] * data[i])\n",
        "\n",
        "print(result_data)"
      ],
      "metadata": {
        "colab": {
          "base_uri": "https://localhost:8080/"
        },
        "id": "cV7QaAsMY4yU",
        "outputId": "c635ee4a-eb94-4b69-db9a-324be5065866"
      },
      "execution_count": null,
      "outputs": [
        {
          "output_type": "stream",
          "name": "stdout",
          "text": [
            "[2500, 2401, 2304, 2209, 2116, 2025, 1936, 1849, 1764, 1681, 1600, 1521, 1444, 1369, 1296, 1225, 1156, 1089, 1024, 961, 900, 841, 784, 729, 676, 625, 576, 529, 484, 441, 400, 361, 324, 289, 256, 225, 196, 169, 144, 121, 100, 81, 64, 49, 36, 25, 16, 9, 4, 1, 0, 1, 4, 9, 16, 25, 36, 49, 64, 81, 100, 121, 144, 169, 196, 225, 256, 289, 324, 361, 400, 441, 484, 529, 576, 625, 676, 729, 784, 841, 900, 961, 1024, 1089, 1156, 1225, 1296, 1369, 1444, 1521, 1600, 1681, 1764, 1849, 1936, 2025, 2116, 2209, 2304, 2401, 2500]\n"
          ]
        }
      ]
    },
    {
      "cell_type": "markdown",
      "source": [
        "# Numerical lists aka vectors or arrays"
      ],
      "metadata": {
        "id": "T8gzBbZgLSnX"
      }
    },
    {
      "cell_type": "markdown",
      "source": [
        "## Multiply lists with numpy"
      ],
      "metadata": {
        "id": "nl9QwyBcNbJ2"
      }
    },
    {
      "cell_type": "code",
      "source": [
        "# Multiply two lists\n",
        "\n",
        "# import the numpy libraray\n",
        "import numpy as np\n",
        "\n",
        "# use the multiply function that can handle list objects\n",
        "result = np.multiply(data, data)\n",
        "print(result)"
      ],
      "metadata": {
        "colab": {
          "base_uri": "https://localhost:8080/"
        },
        "id": "segznfldLbKS",
        "outputId": "d1b4b6ee-5659-4030-d4e9-5a403c721713"
      },
      "execution_count": null,
      "outputs": [
        {
          "output_type": "stream",
          "name": "stdout",
          "text": [
            "[2500 2401 2304 2209 2116 2025 1936 1849 1764 1681 1600 1521 1444 1369\n",
            " 1296 1225 1156 1089 1024  961  900  841  784  729  676  625  576  529\n",
            "  484  441  400  361  324  289  256  225  196  169  144  121  100   81\n",
            "   64   49   36   25   16    9    4    1    0    1    4    9   16   25\n",
            "   36   49   64   81  100  121  144  169  196  225  256  289  324  361\n",
            "  400  441  484  529  576  625  676  729  784  841  900  961 1024 1089\n",
            " 1156 1225 1296 1369 1444 1521 1600 1681 1764 1849 1936 2025 2116 2209\n",
            " 2304 2401 2500]\n"
          ]
        }
      ]
    },
    {
      "cell_type": "code",
      "source": [
        "type(data), type(result_data), type(result)"
      ],
      "metadata": {
        "colab": {
          "base_uri": "https://localhost:8080/"
        },
        "id": "faRSS6hJMuHg",
        "outputId": "dfc3813c-c759-41a3-8232-80726d08b915"
      },
      "execution_count": null,
      "outputs": [
        {
          "output_type": "execute_result",
          "data": {
            "text/plain": [
              "(list, list, numpy.ndarray)"
            ]
          },
          "metadata": {},
          "execution_count": 7
        }
      ]
    },
    {
      "cell_type": "markdown",
      "source": [
        "## Transfer lists to numpy arrays"
      ],
      "metadata": {
        "id": "01-euEVuNXLe"
      }
    },
    {
      "cell_type": "code",
      "source": [
        "# create a vector (array) from a list\n",
        "data2 = np.array(data)\n",
        "data2"
      ],
      "metadata": {
        "colab": {
          "base_uri": "https://localhost:8080/"
        },
        "id": "Q_T5Znz8M6yw",
        "outputId": "e24dd0ed-e126-4656-b266-a9c3dbf37092"
      },
      "execution_count": null,
      "outputs": [
        {
          "output_type": "execute_result",
          "data": {
            "text/plain": [
              "array([-50, -49, -48, -47, -46, -45, -44, -43, -42, -41, -40, -39, -38,\n",
              "       -37, -36, -35, -34, -33, -32, -31, -30, -29, -28, -27, -26, -25,\n",
              "       -24, -23, -22, -21, -20, -19, -18, -17, -16, -15, -14, -13, -12,\n",
              "       -11, -10,  -9,  -8,  -7,  -6,  -5,  -4,  -3,  -2,  -1,   0,   1,\n",
              "         2,   3,   4,   5,   6,   7,   8,   9,  10,  11,  12,  13,  14,\n",
              "        15,  16,  17,  18,  19,  20,  21,  22,  23,  24,  25,  26,  27,\n",
              "        28,  29,  30,  31,  32,  33,  34,  35,  36,  37,  38,  39,  40,\n",
              "        41,  42,  43,  44,  45,  46,  47,  48,  49,  50])"
            ]
          },
          "metadata": {},
          "execution_count": 8
        }
      ]
    },
    {
      "cell_type": "code",
      "source": [
        "# multiply the list as used from math in school\n",
        "result2 = data2 * data2\n",
        "result2"
      ],
      "metadata": {
        "colab": {
          "base_uri": "https://localhost:8080/"
        },
        "id": "kIpbAp0hN2Uv",
        "outputId": "ddf86319-52ed-4b67-90b0-096e4535f5a3"
      },
      "execution_count": null,
      "outputs": [
        {
          "output_type": "execute_result",
          "data": {
            "text/plain": [
              "array([2500, 2401, 2304, 2209, 2116, 2025, 1936, 1849, 1764, 1681, 1600,\n",
              "       1521, 1444, 1369, 1296, 1225, 1156, 1089, 1024,  961,  900,  841,\n",
              "        784,  729,  676,  625,  576,  529,  484,  441,  400,  361,  324,\n",
              "        289,  256,  225,  196,  169,  144,  121,  100,   81,   64,   49,\n",
              "         36,   25,   16,    9,    4,    1,    0,    1,    4,    9,   16,\n",
              "         25,   36,   49,   64,   81,  100,  121,  144,  169,  196,  225,\n",
              "        256,  289,  324,  361,  400,  441,  484,  529,  576,  625,  676,\n",
              "        729,  784,  841,  900,  961, 1024, 1089, 1156, 1225, 1296, 1369,\n",
              "       1444, 1521, 1600, 1681, 1764, 1849, 1936, 2025, 2116, 2209, 2304,\n",
              "       2401, 2500])"
            ]
          },
          "metadata": {},
          "execution_count": 10
        }
      ]
    },
    {
      "cell_type": "markdown",
      "source": [
        "# Visualize the data"
      ],
      "metadata": {
        "id": "XWh2Nlu1PLqm"
      }
    },
    {
      "cell_type": "code",
      "source": [
        "# import a plotting library\n",
        "import matplotlib.pyplot as plt\n",
        "\n",
        "# plot a scatterplot from the data\n",
        "plt.scatter(data2, result2)"
      ],
      "metadata": {
        "colab": {
          "base_uri": "https://localhost:8080/",
          "height": 448
        },
        "id": "pZNTUbMCOG1f",
        "outputId": "f39a27ae-2e52-493a-b0d7-a54ba2c6e3a7"
      },
      "execution_count": null,
      "outputs": [
        {
          "output_type": "execute_result",
          "data": {
            "text/plain": [
              "<matplotlib.collections.PathCollection at 0x7b813b289c90>"
            ]
          },
          "metadata": {},
          "execution_count": 11
        },
        {
          "output_type": "display_data",
          "data": {
            "text/plain": [
              "<Figure size 640x480 with 1 Axes>"
            ],
            "image/png": "[encoded data removed]"
          },
          "metadata": {}
        }
      ]
    },
    {
      "cell_type": "code",
      "source": [
        "# plotting the lists directly into a scatter plot\n",
        "plt.scatter(data, result_data)"
      ],
      "metadata": {
        "colab": {
          "base_uri": "https://localhost:8080/",
          "height": 448
        },
        "id": "wQu91DFMQsac",
        "outputId": "0f272fb5-4b46-4bc4-e47b-0c0d2172e63c"
      },
      "execution_count": null,
      "outputs": [
        {
          "output_type": "execute_result",
          "data": {
            "text/plain": [
              "<matplotlib.collections.PathCollection at 0x7b812544d190>"
            ]
          },
          "metadata": {},
          "execution_count": 12
        },
        {
          "output_type": "display_data",
          "data": {
            "text/plain": [
              "<Figure size 640x480 with 1 Axes>"
            ],
            "image/png": "[encoded data removed]"
          },
          "metadata": {}
        }
      ]
    },
    {
      "cell_type": "code",
      "source": [
        "result3 = data2**3\n",
        "result3"
      ],
      "metadata": {
        "id": "VkmKNxo9Q2x_",
        "colab": {
          "base_uri": "https://localhost:8080/"
        },
        "outputId": "ff2983be-6558-40cd-9af5-6cecb0259f45"
      },
      "execution_count": null,
      "outputs": [
        {
          "output_type": "execute_result",
          "data": {
            "text/plain": [
              "array([-125000, -117649, -110592, -103823,  -97336,  -91125,  -85184,\n",
              "        -79507,  -74088,  -68921,  -64000,  -59319,  -54872,  -50653,\n",
              "        -46656,  -42875,  -39304,  -35937,  -32768,  -29791,  -27000,\n",
              "        -24389,  -21952,  -19683,  -17576,  -15625,  -13824,  -12167,\n",
              "        -10648,   -9261,   -8000,   -6859,   -5832,   -4913,   -4096,\n",
              "         -3375,   -2744,   -2197,   -1728,   -1331,   -1000,    -729,\n",
              "          -512,    -343,    -216,    -125,     -64,     -27,      -8,\n",
              "            -1,       0,       1,       8,      27,      64,     125,\n",
              "           216,     343,     512,     729,    1000,    1331,    1728,\n",
              "          2197,    2744,    3375,    4096,    4913,    5832,    6859,\n",
              "          8000,    9261,   10648,   12167,   13824,   15625,   17576,\n",
              "         19683,   21952,   24389,   27000,   29791,   32768,   35937,\n",
              "         39304,   42875,   46656,   50653,   54872,   59319,   64000,\n",
              "         68921,   74088,   79507,   85184,   91125,   97336,  103823,\n",
              "        110592,  117649,  125000])"
            ]
          },
          "metadata": {},
          "execution_count": 15
        }
      ]
    },
    {
      "cell_type": "code",
      "source": [
        "plt.scatter(data2, result3);"
      ],
      "metadata": {
        "colab": {
          "base_uri": "https://localhost:8080/",
          "height": 430
        },
        "id": "yh6bqbA9Var_",
        "outputId": "88ec5eb0-0b29-459f-f3b5-e0b806640395"
      },
      "execution_count": null,
      "outputs": [
        {
          "output_type": "display_data",
          "data": {
            "text/plain": [
              "<Figure size 640x480 with 1 Axes>"
            ],
            "image/png": "[encoded data removed]"
          },
          "metadata": {}
        }
      ]
    },
    {
      "cell_type": "code",
      "source": [
        "plt.scatter(data2, result3/100, c=\"red\");\n",
        "plt.scatter(data2, result2, c=\"blue\");"
      ],
      "metadata": {
        "colab": {
          "base_uri": "https://localhost:8080/",
          "height": 430
        },
        "id": "QmkwGHG1VpC9",
        "outputId": "1e3ba7e9-5eaf-4577-c76a-cb898f7f2aef"
      },
      "execution_count": null,
      "outputs": [
        {
          "output_type": "display_data",
          "data": {
            "text/plain": [
              "<Figure size 640x480 with 1 Axes>"
            ],
            "image/png": "[encoded data removed]"
          },
          "metadata": {}
        }
      ]
    },
    {
      "cell_type": "code",
      "source": [],
      "metadata": {
        "id": "YytqzROhV9zM"
      },
      "execution_count": null,
      "outputs": []
    }
  ]
}